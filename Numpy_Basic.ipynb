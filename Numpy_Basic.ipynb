{
  "nbformat": 4,
  "nbformat_minor": 0,
  "metadata": {
    "colab": {
      "provenance": [],
      "authorship_tag": "ABX9TyPXEZx1Ub4soLvkqwHVaF0s",
      "include_colab_link": true
    },
    "kernelspec": {
      "name": "python3",
      "display_name": "Python 3"
    },
    "language_info": {
      "name": "python"
    }
  },
  "cells": [
    {
      "cell_type": "markdown",
      "metadata": {
        "id": "view-in-github",
        "colab_type": "text"
      },
      "source": [
        "<a href=\"https://colab.research.google.com/github/mayurgurav-45/PYTHON-WORKSHOP/blob/main/Numpy_Basic.ipynb\" target=\"_parent\"><img src=\"https://colab.research.google.com/assets/colab-badge.svg\" alt=\"Open In Colab\"/></a>"
      ]
    },
    {
      "cell_type": "markdown",
      "source": [
        "**Import Numpy**"
      ],
      "metadata": {
        "id": "qHXYssOR79lm"
      }
    },
    {
      "cell_type": "code",
      "execution_count": 1,
      "metadata": {
        "id": "qL3qKiIG7f1w"
      },
      "outputs": [],
      "source": [
        "import numpy as np"
      ]
    },
    {
      "cell_type": "markdown",
      "source": [
        "**Creating Numpy array**"
      ],
      "metadata": {
        "id": "mBNA0G6z8q_K"
      }
    },
    {
      "cell_type": "code",
      "source": [
        "a = np.array([1,2,3])\n",
        "print(a)"
      ],
      "metadata": {
        "colab": {
          "base_uri": "https://localhost:8080/"
        },
        "id": "IeQyHfgD7qD1",
        "outputId": "10281c33-4f30-4319-9d91-8dfea88b54e0"
      },
      "execution_count": 2,
      "outputs": [
        {
          "output_type": "stream",
          "name": "stdout",
          "text": [
            "[1 2 3]\n"
          ]
        }
      ]
    },
    {
      "cell_type": "code",
      "source": [
        "b = np.array([[1,2,3],[4,5,6]])\n",
        "print(b)"
      ],
      "metadata": {
        "colab": {
          "base_uri": "https://localhost:8080/"
        },
        "id": "yHAIBkkj8NzD",
        "outputId": "fafcca2f-75ed-493a-a635-dee4f0122d15"
      },
      "execution_count": 3,
      "outputs": [
        {
          "output_type": "stream",
          "name": "stdout",
          "text": [
            "[[1 2 3]\n",
            " [4 5 6]]\n"
          ]
        }
      ]
    },
    {
      "cell_type": "code",
      "source": [
        "c = np.array([[[1,2],[3,4]],\n",
        " [[5,6],[7,8]]])\n",
        "print(c)"
      ],
      "metadata": {
        "colab": {
          "base_uri": "https://localhost:8080/"
        },
        "id": "xgj9fP-w8a2P",
        "outputId": "bd0209d3-cd2c-44c2-c53b-0de82c55b246"
      },
      "execution_count": 4,
      "outputs": [
        {
          "output_type": "stream",
          "name": "stdout",
          "text": [
            "[[[1 2]\n",
            "  [3 4]]\n",
            "\n",
            " [[5 6]\n",
            "  [7 8]]]\n"
          ]
        }
      ]
    },
    {
      "cell_type": "code",
      "source": [
        "d = ([[[[1,2],[3,4]]],[[[5,6],[7,8]]],[[[9,10],[11,12]]]])\n",
        "d"
      ],
      "metadata": {
        "colab": {
          "base_uri": "https://localhost:8080/"
        },
        "id": "d4BgmSSsFhjS",
        "outputId": "1834d034-0720-478e-c4d8-cf56050cf1be"
      },
      "execution_count": 5,
      "outputs": [
        {
          "output_type": "execute_result",
          "data": {
            "text/plain": [
              "[[[[1, 2], [3, 4]]], [[[5, 6], [7, 8]]], [[[9, 10], [11, 12]]]]"
            ]
          },
          "metadata": {},
          "execution_count": 5
        }
      ]
    },
    {
      "cell_type": "markdown",
      "source": [
        "Data Type"
      ],
      "metadata": {
        "id": "szqa2kDi9n9K"
      }
    },
    {
      "cell_type": "code",
      "source": [
        "np.array([1,2,3],dtype=float)"
      ],
      "metadata": {
        "colab": {
          "base_uri": "https://localhost:8080/"
        },
        "id": "VCxQDpha9Hj5",
        "outputId": "a0285e7c-12d8-43e0-9f75-1cb33185eddb"
      },
      "execution_count": 6,
      "outputs": [
        {
          "output_type": "execute_result",
          "data": {
            "text/plain": [
              "array([1., 2., 3.])"
            ]
          },
          "metadata": {},
          "execution_count": 6
        }
      ]
    },
    {
      "cell_type": "code",
      "source": [
        "a = np.array([1, 2, 3], dtype=np.uint8)\n",
        "print(a)\n",
        "print(a.dtype)\n",
        "\n",
        "b = np.array([1, 2, 3], dtype=complex)\n",
        "print(b)\n",
        "print(b.dtype)\n"
      ],
      "metadata": {
        "colab": {
          "base_uri": "https://localhost:8080/"
        },
        "id": "b9KIIOwv92Aa",
        "outputId": "ee7a766e-9c0d-4da5-bb9f-de1aceb980a7"
      },
      "execution_count": 7,
      "outputs": [
        {
          "output_type": "stream",
          "name": "stdout",
          "text": [
            "[1 2 3]\n",
            "uint8\n",
            "[1.+0.j 2.+0.j 3.+0.j]\n",
            "complex128\n"
          ]
        }
      ]
    },
    {
      "cell_type": "markdown",
      "source": [
        "Arange(start,stop,step)"
      ],
      "metadata": {
        "id": "bRm_klAKH2Bx"
      }
    },
    {
      "cell_type": "code",
      "source": [
        "np.arange(1,11,2)"
      ],
      "metadata": {
        "colab": {
          "base_uri": "https://localhost:8080/"
        },
        "id": "iCqxQ-nQ976F",
        "outputId": "6f31d257-9f42-431a-985a-e4490c62e28d"
      },
      "execution_count": 8,
      "outputs": [
        {
          "output_type": "execute_result",
          "data": {
            "text/plain": [
              "array([1, 3, 5, 7, 9])"
            ]
          },
          "metadata": {},
          "execution_count": 8
        }
      ]
    },
    {
      "cell_type": "markdown",
      "source": [
        "With Reshape(depth,row,column)"
      ],
      "metadata": {
        "id": "KmAePS6bIlax"
      }
    },
    {
      "cell_type": "code",
      "source": [
        "np.arange(16).reshape(2,2,2,2)"
      ],
      "metadata": {
        "colab": {
          "base_uri": "https://localhost:8080/"
        },
        "id": "gS8rRDcTHqSV",
        "outputId": "ab05ab18-e98b-4b5b-b913-a475f3dcc58d"
      },
      "execution_count": 9,
      "outputs": [
        {
          "output_type": "execute_result",
          "data": {
            "text/plain": [
              "array([[[[ 0,  1],\n",
              "         [ 2,  3]],\n",
              "\n",
              "        [[ 4,  5],\n",
              "         [ 6,  7]]],\n",
              "\n",
              "\n",
              "       [[[ 8,  9],\n",
              "         [10, 11]],\n",
              "\n",
              "        [[12, 13],\n",
              "         [14, 15]]]])"
            ]
          },
          "metadata": {},
          "execution_count": 9
        }
      ]
    },
    {
      "cell_type": "markdown",
      "source": [
        "Ones"
      ],
      "metadata": {
        "id": "9sZBfzpgKvaq"
      }
    },
    {
      "cell_type": "code",
      "source": [
        "np.ones((3,4))"
      ],
      "metadata": {
        "colab": {
          "base_uri": "https://localhost:8080/"
        },
        "id": "Czy_jbZ3JTwe",
        "outputId": "d5bb4946-d045-43d1-b00a-ba47ba3a7209"
      },
      "execution_count": 10,
      "outputs": [
        {
          "output_type": "execute_result",
          "data": {
            "text/plain": [
              "array([[1., 1., 1., 1.],\n",
              "       [1., 1., 1., 1.],\n",
              "       [1., 1., 1., 1.]])"
            ]
          },
          "metadata": {},
          "execution_count": 10
        }
      ]
    },
    {
      "cell_type": "markdown",
      "source": [
        "Zeros"
      ],
      "metadata": {
        "id": "KezrvrYEKw_7"
      }
    },
    {
      "cell_type": "code",
      "source": [
        "np.zeros((3,4))"
      ],
      "metadata": {
        "colab": {
          "base_uri": "https://localhost:8080/"
        },
        "id": "-pQCisRPKa6r",
        "outputId": "635d5011-ff86-4083-c952-5339375183fd"
      },
      "execution_count": 11,
      "outputs": [
        {
          "output_type": "execute_result",
          "data": {
            "text/plain": [
              "array([[0., 0., 0., 0.],\n",
              "       [0., 0., 0., 0.],\n",
              "       [0., 0., 0., 0.]])"
            ]
          },
          "metadata": {},
          "execution_count": 11
        }
      ]
    },
    {
      "cell_type": "code",
      "source": [
        "np.ones((10,5))"
      ],
      "metadata": {
        "colab": {
          "base_uri": "https://localhost:8080/"
        },
        "id": "CjuW416LKthQ",
        "outputId": "1137e8b9-110a-42f2-9c44-ac6eaa8b1204"
      },
      "execution_count": 12,
      "outputs": [
        {
          "output_type": "execute_result",
          "data": {
            "text/plain": [
              "array([[1., 1., 1., 1., 1.],\n",
              "       [1., 1., 1., 1., 1.],\n",
              "       [1., 1., 1., 1., 1.],\n",
              "       [1., 1., 1., 1., 1.],\n",
              "       [1., 1., 1., 1., 1.],\n",
              "       [1., 1., 1., 1., 1.],\n",
              "       [1., 1., 1., 1., 1.],\n",
              "       [1., 1., 1., 1., 1.],\n",
              "       [1., 1., 1., 1., 1.],\n",
              "       [1., 1., 1., 1., 1.]])"
            ]
          },
          "metadata": {},
          "execution_count": 12
        }
      ]
    },
    {
      "cell_type": "code",
      "source": [
        "np.zeros((10,5))"
      ],
      "metadata": {
        "colab": {
          "base_uri": "https://localhost:8080/"
        },
        "id": "BGWorqU0K_TM",
        "outputId": "068b7e3e-7188-46d0-af71-34eb2f58b670"
      },
      "execution_count": 13,
      "outputs": [
        {
          "output_type": "execute_result",
          "data": {
            "text/plain": [
              "array([[0., 0., 0., 0., 0.],\n",
              "       [0., 0., 0., 0., 0.],\n",
              "       [0., 0., 0., 0., 0.],\n",
              "       [0., 0., 0., 0., 0.],\n",
              "       [0., 0., 0., 0., 0.],\n",
              "       [0., 0., 0., 0., 0.],\n",
              "       [0., 0., 0., 0., 0.],\n",
              "       [0., 0., 0., 0., 0.],\n",
              "       [0., 0., 0., 0., 0.],\n",
              "       [0., 0., 0., 0., 0.]])"
            ]
          },
          "metadata": {},
          "execution_count": 13
        }
      ]
    },
    {
      "cell_type": "markdown",
      "source": [
        "Identity"
      ],
      "metadata": {
        "id": "HLGBPkIYL7sQ"
      }
    },
    {
      "cell_type": "code",
      "source": [
        "np.identity((5))"
      ],
      "metadata": {
        "colab": {
          "base_uri": "https://localhost:8080/"
        },
        "id": "jS8ulHMrLWt9",
        "outputId": "61c3b2f8-2248-489d-ee62-28a526333759"
      },
      "execution_count": 14,
      "outputs": [
        {
          "output_type": "execute_result",
          "data": {
            "text/plain": [
              "array([[1., 0., 0., 0., 0.],\n",
              "       [0., 1., 0., 0., 0.],\n",
              "       [0., 0., 1., 0., 0.],\n",
              "       [0., 0., 0., 1., 0.],\n",
              "       [0., 0., 0., 0., 1.]])"
            ]
          },
          "metadata": {},
          "execution_count": 14
        }
      ]
    },
    {
      "cell_type": "markdown",
      "source": [
        "Random"
      ],
      "metadata": {
        "id": "jefdJeY6OExM"
      }
    },
    {
      "cell_type": "code",
      "source": [
        "np.random.random((3,4))"
      ],
      "metadata": {
        "colab": {
          "base_uri": "https://localhost:8080/"
        },
        "id": "xNi0lPa-L_uK",
        "outputId": "f285987e-4444-4587-c7c6-d629ceee0b66"
      },
      "execution_count": 15,
      "outputs": [
        {
          "output_type": "execute_result",
          "data": {
            "text/plain": [
              "array([[0.89549619, 0.40656915, 0.54498598, 0.17168775],\n",
              "       [0.36289316, 0.51813755, 0.96403443, 0.63166354],\n",
              "       [0.05032909, 0.98434211, 0.53689106, 0.34484842]])"
            ]
          },
          "metadata": {},
          "execution_count": 15
        }
      ]
    },
    {
      "cell_type": "markdown",
      "source": [
        "Linspace(start,end,number_between_them,data_type)"
      ],
      "metadata": {
        "id": "KCIhvBjEOGYt"
      }
    },
    {
      "cell_type": "code",
      "source": [
        "np.linspace(-10,10,10,dtype=int)"
      ],
      "metadata": {
        "colab": {
          "base_uri": "https://localhost:8080/"
        },
        "id": "zh1aRKqzNKVi",
        "outputId": "62613b46-1326-4317-94d6-3dc02e9846e8"
      },
      "execution_count": 16,
      "outputs": [
        {
          "output_type": "execute_result",
          "data": {
            "text/plain": [
              "array([-10,  -8,  -6,  -4,  -2,   1,   3,   5,   7,  10])"
            ]
          },
          "metadata": {},
          "execution_count": 16
        }
      ]
    },
    {
      "cell_type": "markdown",
      "source": [
        "Randint(low,high,size)"
      ],
      "metadata": {
        "id": "WCEr7OTYfgA4"
      }
    },
    {
      "cell_type": "code",
      "source": [
        "np.random.randint(2,10,5)"
      ],
      "metadata": {
        "id": "ENS2cNL_N7Bq",
        "colab": {
          "base_uri": "https://localhost:8080/"
        },
        "outputId": "1decc50f-ef7f-4e88-8684-bef44c06cda3"
      },
      "execution_count": 17,
      "outputs": [
        {
          "output_type": "execute_result",
          "data": {
            "text/plain": [
              "array([4, 6, 2, 4, 7])"
            ]
          },
          "metadata": {},
          "execution_count": 17
        }
      ]
    },
    {
      "cell_type": "markdown",
      "source": [
        "**Array Attributes**"
      ],
      "metadata": {
        "id": "Y0jTu-4eiQA_"
      }
    },
    {
      "cell_type": "markdown",
      "source": [
        "ndim"
      ],
      "metadata": {
        "id": "Iw-p4BNCjUcT"
      }
    },
    {
      "cell_type": "code",
      "source": [
        "a = np.array([1,2,3,4])\n",
        "a.ndim"
      ],
      "metadata": {
        "colab": {
          "base_uri": "https://localhost:8080/"
        },
        "id": "XUPcsOeZffZC",
        "outputId": "a93961b4-9d11-48fe-f283-3b36866d3291"
      },
      "execution_count": 18,
      "outputs": [
        {
          "output_type": "execute_result",
          "data": {
            "text/plain": [
              "1"
            ]
          },
          "metadata": {},
          "execution_count": 18
        }
      ]
    },
    {
      "cell_type": "markdown",
      "source": [
        "shape"
      ],
      "metadata": {
        "id": "Rhalg5AYkhxK"
      }
    },
    {
      "cell_type": "code",
      "source": [
        "a = np.array([1,2,3,4])\n",
        "a.shape"
      ],
      "metadata": {
        "colab": {
          "base_uri": "https://localhost:8080/"
        },
        "id": "ILiqjI3pjSop",
        "outputId": "6f638e9c-c53c-4f1a-8742-a11bce0bd9d9"
      },
      "execution_count": 19,
      "outputs": [
        {
          "output_type": "execute_result",
          "data": {
            "text/plain": [
              "(4,)"
            ]
          },
          "metadata": {},
          "execution_count": 19
        }
      ]
    },
    {
      "cell_type": "markdown",
      "source": [
        "size"
      ],
      "metadata": {
        "id": "Wn-WvFepkkMf"
      }
    },
    {
      "cell_type": "code",
      "source": [
        "a = np.array([1,2,3,4])\n",
        "a.size"
      ],
      "metadata": {
        "colab": {
          "base_uri": "https://localhost:8080/"
        },
        "id": "bqFgjAuAjlBs",
        "outputId": "3e877bf3-b2a2-4a7b-dddd-c6da09780da2"
      },
      "execution_count": 20,
      "outputs": [
        {
          "output_type": "execute_result",
          "data": {
            "text/plain": [
              "4"
            ]
          },
          "metadata": {},
          "execution_count": 20
        }
      ]
    },
    {
      "cell_type": "markdown",
      "source": [
        "dtype"
      ],
      "metadata": {
        "id": "DEMRuPcDkwJ0"
      }
    },
    {
      "cell_type": "code",
      "source": [
        "a = np.array([1,2,3,4])\n",
        "a.dtype"
      ],
      "metadata": {
        "colab": {
          "base_uri": "https://localhost:8080/"
        },
        "id": "WVVdQxZ0krvi",
        "outputId": "203a9ccd-cb9f-4435-e307-f042783fe230"
      },
      "execution_count": 21,
      "outputs": [
        {
          "output_type": "execute_result",
          "data": {
            "text/plain": [
              "dtype('int64')"
            ]
          },
          "metadata": {},
          "execution_count": 21
        }
      ]
    },
    {
      "cell_type": "markdown",
      "source": [
        "itemsize"
      ],
      "metadata": {
        "id": "kWifwdE7k9E6"
      }
    },
    {
      "cell_type": "code",
      "source": [
        "a = np.array([1,2,3,4])\n",
        "a.itemsize"
      ],
      "metadata": {
        "colab": {
          "base_uri": "https://localhost:8080/"
        },
        "id": "IoAUmCsok09i",
        "outputId": "db53b0c1-23d9-4c8d-ec85-7696b6ce2891"
      },
      "execution_count": 22,
      "outputs": [
        {
          "output_type": "execute_result",
          "data": {
            "text/plain": [
              "8"
            ]
          },
          "metadata": {},
          "execution_count": 22
        }
      ]
    },
    {
      "cell_type": "markdown",
      "source": [
        "nbytes"
      ],
      "metadata": {
        "id": "WlzyAb84lEWo"
      }
    },
    {
      "cell_type": "code",
      "source": [
        "a = np.array([1,2,3,4])\n",
        "a.nbytes"
      ],
      "metadata": {
        "colab": {
          "base_uri": "https://localhost:8080/"
        },
        "id": "8EbJbLVtlBmn",
        "outputId": "edffba31-0e9d-4973-a08b-a31d38b8676b"
      },
      "execution_count": 23,
      "outputs": [
        {
          "output_type": "execute_result",
          "data": {
            "text/plain": [
              "32"
            ]
          },
          "metadata": {},
          "execution_count": 23
        }
      ]
    },
    {
      "cell_type": "markdown",
      "source": [
        "1D Array Attributes"
      ],
      "metadata": {
        "id": "FuqezSNtnyVF"
      }
    },
    {
      "cell_type": "code",
      "source": [
        "a = np.array([1,2,3,4])\n",
        "print(a.ndim,a.shape,a.size,a.dtype,a.itemsize,a.nbytes)"
      ],
      "metadata": {
        "colab": {
          "base_uri": "https://localhost:8080/"
        },
        "id": "bdwzcf-rlH4U",
        "outputId": "a2caafc4-bd6f-4d5f-f903-04ea60e6ae83"
      },
      "execution_count": 24,
      "outputs": [
        {
          "output_type": "stream",
          "name": "stdout",
          "text": [
            "1 (4,) 4 int64 8 32\n"
          ]
        }
      ]
    },
    {
      "cell_type": "markdown",
      "source": [
        "2D Array Attributes\n",
        "\n"
      ],
      "metadata": {
        "id": "mZ-CpqBcn3XB"
      }
    },
    {
      "cell_type": "code",
      "source": [
        "b = np.array([[1,2,3],[4,5,6]])\n",
        "print(b.ndim,b.shape,b.size,b.dtype,b.itemsize,b.nbytes)"
      ],
      "metadata": {
        "colab": {
          "base_uri": "https://localhost:8080/"
        },
        "id": "QqizA3MDnYOU",
        "outputId": "f2a519dc-e262-4695-e30a-b9afcde32eab"
      },
      "execution_count": 25,
      "outputs": [
        {
          "output_type": "stream",
          "name": "stdout",
          "text": [
            "2 (2, 3) 6 int64 8 48\n"
          ]
        }
      ]
    },
    {
      "cell_type": "markdown",
      "source": [
        "3D Array Attributes"
      ],
      "metadata": {
        "id": "-fnO0ccWoFjO"
      }
    },
    {
      "cell_type": "code",
      "source": [
        "c = np.array([[[1,2],[3,4]],\n",
        " [[5,6],[7,8]]])\n",
        "print(c.ndim,c.shape,c.size,c.dtype,c.itemsize,c.nbytes)"
      ],
      "metadata": {
        "colab": {
          "base_uri": "https://localhost:8080/"
        },
        "id": "FgcBC8NUoD1q",
        "outputId": "a3c5a393-84e6-48a5-9265-bc5797685384"
      },
      "execution_count": 26,
      "outputs": [
        {
          "output_type": "stream",
          "name": "stdout",
          "text": [
            "3 (2, 2, 2) 8 int64 8 64\n"
          ]
        }
      ]
    },
    {
      "cell_type": "markdown",
      "source": [
        "astype"
      ],
      "metadata": {
        "id": "__C5Gew6qfzz"
      }
    },
    {
      "cell_type": "code",
      "source": [
        "a.dtype"
      ],
      "metadata": {
        "colab": {
          "base_uri": "https://localhost:8080/"
        },
        "id": "7H41UzxqoPnK",
        "outputId": "7ec5ce09-a16d-4d9e-af78-883009b86117"
      },
      "execution_count": 27,
      "outputs": [
        {
          "output_type": "execute_result",
          "data": {
            "text/plain": [
              "dtype('int64')"
            ]
          },
          "metadata": {},
          "execution_count": 27
        }
      ]
    },
    {
      "cell_type": "code",
      "source": [
        "a.astype(np.float64).dtype"
      ],
      "metadata": {
        "colab": {
          "base_uri": "https://localhost:8080/"
        },
        "id": "-hSTuc8RqrO9",
        "outputId": "31878c86-fd4f-430a-9ab6-f5cfa0ed63ed"
      },
      "execution_count": 28,
      "outputs": [
        {
          "output_type": "execute_result",
          "data": {
            "text/plain": [
              "dtype('float64')"
            ]
          },
          "metadata": {},
          "execution_count": 28
        }
      ]
    },
    {
      "cell_type": "code",
      "source": [
        "a.astype(np.complex64)"
      ],
      "metadata": {
        "colab": {
          "base_uri": "https://localhost:8080/"
        },
        "id": "m_dYJOvLrIQE",
        "outputId": "2275234b-0915-4354-bc5e-2aadb45d6f3e"
      },
      "execution_count": 29,
      "outputs": [
        {
          "output_type": "execute_result",
          "data": {
            "text/plain": [
              "array([1.+0.j, 2.+0.j, 3.+0.j, 4.+0.j], dtype=complex64)"
            ]
          },
          "metadata": {},
          "execution_count": 29
        }
      ]
    },
    {
      "cell_type": "markdown",
      "source": [
        "**Array Operations**"
      ],
      "metadata": {
        "id": "scpDGjeCrAII"
      }
    },
    {
      "cell_type": "markdown",
      "source": [
        "scalar op."
      ],
      "metadata": {
        "id": "spnBqecttmeR"
      }
    },
    {
      "cell_type": "code",
      "source": [
        "t = np.array([[1,2],[3,4]])\n",
        "t**2"
      ],
      "metadata": {
        "colab": {
          "base_uri": "https://localhost:8080/"
        },
        "id": "zxOjIl0Qq1E9",
        "outputId": "bb67cf1b-0499-481f-f8bb-86d8af64c358"
      },
      "execution_count": 30,
      "outputs": [
        {
          "output_type": "execute_result",
          "data": {
            "text/plain": [
              "array([[ 1,  4],\n",
              "       [ 9, 16]])"
            ]
          },
          "metadata": {},
          "execution_count": 30
        }
      ]
    },
    {
      "cell_type": "code",
      "source": [
        "t1 = np.array([[1,2],[3,4]])\n",
        "t2 = np.array([[5,6],[7,8]])\n",
        "t1**t2"
      ],
      "metadata": {
        "colab": {
          "base_uri": "https://localhost:8080/"
        },
        "id": "cakQDsV8t0uI",
        "outputId": "68402189-b8d4-4a25-8601-fd6ae06f575a"
      },
      "execution_count": 31,
      "outputs": [
        {
          "output_type": "execute_result",
          "data": {
            "text/plain": [
              "array([[    1,    64],\n",
              "       [ 2187, 65536]])"
            ]
          },
          "metadata": {},
          "execution_count": 31
        }
      ]
    },
    {
      "cell_type": "markdown",
      "source": [
        "Relational"
      ],
      "metadata": {
        "id": "yGh8NybMp_q0"
      }
    },
    {
      "cell_type": "code",
      "source": [
        "t2 == 6"
      ],
      "metadata": {
        "colab": {
          "base_uri": "https://localhost:8080/"
        },
        "id": "zjoVA621qTKj",
        "outputId": "79edce93-67d9-4f67-ebd8-685e1acb319a"
      },
      "execution_count": 32,
      "outputs": [
        {
          "output_type": "execute_result",
          "data": {
            "text/plain": [
              "array([[False,  True],\n",
              "       [False, False]])"
            ]
          },
          "metadata": {},
          "execution_count": 32
        }
      ]
    },
    {
      "cell_type": "markdown",
      "source": [
        "**Array Functions**"
      ],
      "metadata": {
        "id": "f7TfqBwQqeVs"
      }
    },
    {
      "cell_type": "markdown",
      "source": [
        "Round"
      ],
      "metadata": {
        "id": "bmDsJvEHv6Ed"
      }
    },
    {
      "cell_type": "code",
      "source": [
        "a = np.random.random((3,3))\n",
        "a = np.round(a*100)\n",
        "a"
      ],
      "metadata": {
        "colab": {
          "base_uri": "https://localhost:8080/"
        },
        "id": "ZklgkiXQvSBB",
        "outputId": "6a79eaa8-9a64-46d2-da20-fc29a9d6a558"
      },
      "execution_count": 33,
      "outputs": [
        {
          "output_type": "execute_result",
          "data": {
            "text/plain": [
              "array([[18., 31., 44.],\n",
              "       [89., 42., 14.],\n",
              "       [85., 62., 91.]])"
            ]
          },
          "metadata": {},
          "execution_count": 33
        }
      ]
    },
    {
      "cell_type": "markdown",
      "source": [
        "Max"
      ],
      "metadata": {
        "id": "sU42gBlnrbTA"
      }
    },
    {
      "cell_type": "code",
      "source": [
        "np.max(a,axis=0)"
      ],
      "metadata": {
        "id": "KDnPUTJEwH85",
        "colab": {
          "base_uri": "https://localhost:8080/"
        },
        "outputId": "bfe0253c-802d-468a-dfe4-3b9c9f9eee2f"
      },
      "execution_count": 34,
      "outputs": [
        {
          "output_type": "execute_result",
          "data": {
            "text/plain": [
              "array([89., 62., 91.])"
            ]
          },
          "metadata": {},
          "execution_count": 34
        }
      ]
    },
    {
      "cell_type": "markdown",
      "source": [
        "Min"
      ],
      "metadata": {
        "id": "N4nOAdysrdVZ"
      }
    },
    {
      "cell_type": "code",
      "source": [
        "np.min(a,axis=0)"
      ],
      "metadata": {
        "colab": {
          "base_uri": "https://localhost:8080/"
        },
        "id": "RjUuOucyquAi",
        "outputId": "17158d4b-d225-47bf-a47d-cfdd668ae2ed"
      },
      "execution_count": 35,
      "outputs": [
        {
          "output_type": "execute_result",
          "data": {
            "text/plain": [
              "array([18., 31., 14.])"
            ]
          },
          "metadata": {},
          "execution_count": 35
        }
      ]
    },
    {
      "cell_type": "markdown",
      "source": [
        "Sum"
      ],
      "metadata": {
        "id": "5MIQlWRQrhWi"
      }
    },
    {
      "cell_type": "code",
      "source": [
        "np.sum(a,axis=0)"
      ],
      "metadata": {
        "colab": {
          "base_uri": "https://localhost:8080/"
        },
        "id": "vUokEExrre0d",
        "outputId": "eaaf1e14-20ae-4e03-915a-6370cd34bb8f"
      },
      "execution_count": 36,
      "outputs": [
        {
          "output_type": "execute_result",
          "data": {
            "text/plain": [
              "array([192., 135., 149.])"
            ]
          },
          "metadata": {},
          "execution_count": 36
        }
      ]
    },
    {
      "cell_type": "markdown",
      "source": [
        "Prod"
      ],
      "metadata": {
        "id": "wT-ItI5MrosJ"
      }
    },
    {
      "cell_type": "code",
      "source": [
        "np.prod(a,axis=0)"
      ],
      "metadata": {
        "colab": {
          "base_uri": "https://localhost:8080/"
        },
        "id": "hXLkxooXrlP1",
        "outputId": "e92e63b5-109b-40d5-f8d4-efb776535bf7"
      },
      "execution_count": 37,
      "outputs": [
        {
          "output_type": "execute_result",
          "data": {
            "text/plain": [
              "array([136170.,  80724.,  56056.])"
            ]
          },
          "metadata": {},
          "execution_count": 37
        }
      ]
    },
    {
      "cell_type": "markdown",
      "source": [
        "Mean"
      ],
      "metadata": {
        "id": "3SVcxfpEr9cf"
      }
    },
    {
      "cell_type": "code",
      "source": [
        "np.mean(a,axis=0)"
      ],
      "metadata": {
        "colab": {
          "base_uri": "https://localhost:8080/"
        },
        "id": "aGV_N9cGrtO-",
        "outputId": "9ae446b5-2796-48a4-d408-2239cbaf2ae4"
      },
      "execution_count": 38,
      "outputs": [
        {
          "output_type": "execute_result",
          "data": {
            "text/plain": [
              "array([64.        , 45.        , 49.66666667])"
            ]
          },
          "metadata": {},
          "execution_count": 38
        }
      ]
    },
    {
      "cell_type": "markdown",
      "source": [
        "Median"
      ],
      "metadata": {
        "id": "0llec8VNr-yI"
      }
    },
    {
      "cell_type": "code",
      "source": [
        "np.median(a,axis=0)"
      ],
      "metadata": {
        "colab": {
          "base_uri": "https://localhost:8080/"
        },
        "id": "jn3AhQNir7rg",
        "outputId": "7cc89d74-b35b-465d-979e-15c8966e5626"
      },
      "execution_count": 39,
      "outputs": [
        {
          "output_type": "execute_result",
          "data": {
            "text/plain": [
              "array([85., 42., 44.])"
            ]
          },
          "metadata": {},
          "execution_count": 39
        }
      ]
    },
    {
      "cell_type": "markdown",
      "source": [
        "Std"
      ],
      "metadata": {
        "id": "NhyVYjQ6sG6n"
      }
    },
    {
      "cell_type": "code",
      "source": [
        "np.std(a,axis=0)"
      ],
      "metadata": {
        "colab": {
          "base_uri": "https://localhost:8080/"
        },
        "id": "Z4lfEVQpsEuJ",
        "outputId": "3d9d6c5d-f8ad-4fe2-e16e-e895885d34ba"
      },
      "execution_count": 40,
      "outputs": [
        {
          "output_type": "execute_result",
          "data": {
            "text/plain": [
              "array([32.56787783, 12.83225104, 31.68946548])"
            ]
          },
          "metadata": {},
          "execution_count": 40
        }
      ]
    },
    {
      "cell_type": "markdown",
      "source": [
        "Var"
      ],
      "metadata": {
        "id": "IIdYQqgKsLP_"
      }
    },
    {
      "cell_type": "code",
      "source": [
        "np.var(a,axis=0)"
      ],
      "metadata": {
        "colab": {
          "base_uri": "https://localhost:8080/"
        },
        "id": "gzLWJwZIsJd4",
        "outputId": "eae46fef-608d-4346-c431-292a696e1828"
      },
      "execution_count": 41,
      "outputs": [
        {
          "output_type": "execute_result",
          "data": {
            "text/plain": [
              "array([1060.66666667,  164.66666667, 1004.22222222])"
            ]
          },
          "metadata": {},
          "execution_count": 41
        }
      ]
    },
    {
      "cell_type": "markdown",
      "source": [
        "Trigonometry Funn."
      ],
      "metadata": {
        "id": "ipn0BEyAsQ7e"
      }
    },
    {
      "cell_type": "code",
      "source": [
        "np.sin(a)"
      ],
      "metadata": {
        "colab": {
          "base_uri": "https://localhost:8080/"
        },
        "id": "PjvIYG27sNn0",
        "outputId": "aed28849-6bc0-4365-dd92-3ed0f568fe17"
      },
      "execution_count": 42,
      "outputs": [
        {
          "output_type": "execute_result",
          "data": {
            "text/plain": [
              "array([[-0.75098725, -0.40403765,  0.01770193],\n",
              "       [ 0.86006941, -0.91652155,  0.99060736],\n",
              "       [-0.17607562, -0.7391807 ,  0.10598751]])"
            ]
          },
          "metadata": {},
          "execution_count": 42
        }
      ]
    },
    {
      "cell_type": "markdown",
      "source": [
        "Angle array in degrees"
      ],
      "metadata": {
        "id": "HihmRxqUshL9"
      }
    },
    {
      "cell_type": "code",
      "source": [
        "deg = np.array([0,30,45,60,90])\n",
        "rad = np.deg2rad(deg)\n",
        "print(\"Angles in degrees:\", deg)\n",
        "print(\"Angles in radians:\", rad)\n",
        "\n",
        "print(\"Sine:\", np.sin(rad))\n",
        "print(\"Cosine:\", np.cos(rad))\n",
        "print(\"Tangent:\", np.tan(rad))"
      ],
      "metadata": {
        "colab": {
          "base_uri": "https://localhost:8080/"
        },
        "id": "z8MjQWkMsXpq",
        "outputId": "e5891a6a-37de-40fd-d4b0-90c972584ba7"
      },
      "execution_count": 43,
      "outputs": [
        {
          "output_type": "stream",
          "name": "stdout",
          "text": [
            "Angles in degrees: [ 0 30 45 60 90]\n",
            "Angles in radians: [0.         0.52359878 0.78539816 1.04719755 1.57079633]\n",
            "Sine: [0.         0.5        0.70710678 0.8660254  1.        ]\n",
            "Cosine: [1.00000000e+00 8.66025404e-01 7.07106781e-01 5.00000000e-01\n",
            " 6.12323400e-17]\n",
            "Tangent: [0.00000000e+00 5.77350269e-01 1.00000000e+00 1.73205081e+00\n",
            " 1.63312394e+16]\n"
          ]
        }
      ]
    },
    {
      "cell_type": "markdown",
      "source": [
        "Dot"
      ],
      "metadata": {
        "id": "CEMJGAcEDmBA"
      }
    },
    {
      "cell_type": "code",
      "source": [
        "a = np.arange(12).reshape(3,4)\n",
        "b = np.arange(12,24).reshape(4,3)\n",
        "np.dot(a,b)"
      ],
      "metadata": {
        "id": "R932z1wjs9FG",
        "colab": {
          "base_uri": "https://localhost:8080/"
        },
        "outputId": "b0dbde35-928a-40c1-de41-ca5f0bf10fcc"
      },
      "execution_count": 44,
      "outputs": [
        {
          "output_type": "execute_result",
          "data": {
            "text/plain": [
              "array([[114, 120, 126],\n",
              "       [378, 400, 422],\n",
              "       [642, 680, 718]])"
            ]
          },
          "metadata": {},
          "execution_count": 44
        }
      ]
    },
    {
      "cell_type": "markdown",
      "source": [
        "Log"
      ],
      "metadata": {
        "id": "4lKk-F_xEorV"
      }
    },
    {
      "cell_type": "code",
      "source": [
        "np.exp(a)"
      ],
      "metadata": {
        "colab": {
          "base_uri": "https://localhost:8080/"
        },
        "id": "uPzBMOK8EvVR",
        "outputId": "2167bf56-6688-4a42-afe2-8a062da8501c"
      },
      "execution_count": 45,
      "outputs": [
        {
          "output_type": "execute_result",
          "data": {
            "text/plain": [
              "array([[1.00000000e+00, 2.71828183e+00, 7.38905610e+00, 2.00855369e+01],\n",
              "       [5.45981500e+01, 1.48413159e+02, 4.03428793e+02, 1.09663316e+03],\n",
              "       [2.98095799e+03, 8.10308393e+03, 2.20264658e+04, 5.98741417e+04]])"
            ]
          },
          "metadata": {},
          "execution_count": 45
        }
      ]
    },
    {
      "cell_type": "markdown",
      "source": [
        "Expo."
      ],
      "metadata": {
        "id": "hnrctqgZF2Dq"
      }
    },
    {
      "cell_type": "code",
      "source": [
        "np.log(a)"
      ],
      "metadata": {
        "colab": {
          "base_uri": "https://localhost:8080/"
        },
        "id": "qx1OC_JDFAt4",
        "outputId": "698f959e-3bff-43fc-a23d-95753cb22d19"
      },
      "execution_count": 46,
      "outputs": [
        {
          "output_type": "stream",
          "name": "stderr",
          "text": [
            "<ipython-input-46-89b6b8e53c58>:1: RuntimeWarning: divide by zero encountered in log\n",
            "  np.log(a)\n"
          ]
        },
        {
          "output_type": "execute_result",
          "data": {
            "text/plain": [
              "array([[      -inf, 0.        , 0.69314718, 1.09861229],\n",
              "       [1.38629436, 1.60943791, 1.79175947, 1.94591015],\n",
              "       [2.07944154, 2.19722458, 2.30258509, 2.39789527]])"
            ]
          },
          "metadata": {},
          "execution_count": 46
        }
      ]
    },
    {
      "cell_type": "markdown",
      "source": [
        "Floor"
      ],
      "metadata": {
        "id": "XfdAI9ndFPDV"
      }
    },
    {
      "cell_type": "code",
      "source": [
        "np.floor(np.random.random((2,3))*100)"
      ],
      "metadata": {
        "colab": {
          "base_uri": "https://localhost:8080/"
        },
        "id": "NlSUtqnGFD7A",
        "outputId": "dcdf75b0-be2b-4d2e-c0f7-8ecc7c0d078e"
      },
      "execution_count": 47,
      "outputs": [
        {
          "output_type": "execute_result",
          "data": {
            "text/plain": [
              "array([[ 1., 70., 47.],\n",
              "       [19., 89., 55.]])"
            ]
          },
          "metadata": {},
          "execution_count": 47
        }
      ]
    },
    {
      "cell_type": "markdown",
      "source": [
        "Ceil"
      ],
      "metadata": {
        "id": "_XWYA_0fF68T"
      }
    },
    {
      "cell_type": "code",
      "source": [
        "np.ceil(np.random.random((2,3))*100)"
      ],
      "metadata": {
        "colab": {
          "base_uri": "https://localhost:8080/"
        },
        "id": "DGgNHkOsFaAz",
        "outputId": "6c521765-b7e1-4d7b-8664-c6b88597d29d"
      },
      "execution_count": 48,
      "outputs": [
        {
          "output_type": "execute_result",
          "data": {
            "text/plain": [
              "array([[39., 16., 79.],\n",
              "       [73., 92., 11.]])"
            ]
          },
          "metadata": {},
          "execution_count": 48
        }
      ]
    },
    {
      "cell_type": "markdown",
      "source": [
        "**Iterating**"
      ],
      "metadata": {
        "id": "gDTSQyzyG16E"
      }
    },
    {
      "cell_type": "code",
      "source": [
        "a\n",
        "for i in a:\n",
        "  print(i)"
      ],
      "metadata": {
        "colab": {
          "base_uri": "https://localhost:8080/"
        },
        "id": "B1bdejeeFeji",
        "outputId": "ab6fc41f-8948-4e3c-c018-e3868d5e808e"
      },
      "execution_count": 49,
      "outputs": [
        {
          "output_type": "stream",
          "name": "stdout",
          "text": [
            "[0 1 2 3]\n",
            "[4 5 6 7]\n",
            "[ 8  9 10 11]\n"
          ]
        }
      ]
    },
    {
      "cell_type": "code",
      "source": [
        "b"
      ],
      "metadata": {
        "colab": {
          "base_uri": "https://localhost:8080/"
        },
        "id": "qflupgyrIKeA",
        "outputId": "13a01f9a-e24a-4c01-a4f7-3f6fd3254888"
      },
      "execution_count": 52,
      "outputs": [
        {
          "output_type": "execute_result",
          "data": {
            "text/plain": [
              "array([[12, 13, 14],\n",
              "       [15, 16, 17],\n",
              "       [18, 19, 20],\n",
              "       [21, 22, 23]])"
            ]
          },
          "metadata": {},
          "execution_count": 52
        }
      ]
    },
    {
      "cell_type": "code",
      "source": [
        "b\n",
        "for i in b:\n",
        "  print(i)"
      ],
      "metadata": {
        "colab": {
          "base_uri": "https://localhost:8080/"
        },
        "id": "xsqjYqXZMxf5",
        "outputId": "04adc60e-215a-46a1-aeb2-41b8dacd575d"
      },
      "execution_count": 53,
      "outputs": [
        {
          "output_type": "stream",
          "name": "stdout",
          "text": [
            "[12 13 14]\n",
            "[15 16 17]\n",
            "[18 19 20]\n",
            "[21 22 23]\n"
          ]
        }
      ]
    },
    {
      "cell_type": "markdown",
      "source": [
        "nditer"
      ],
      "metadata": {
        "id": "C4nYeB4HM8Uk"
      }
    },
    {
      "cell_type": "code",
      "source": [
        "for i in np.nditer(b):\n",
        "  print(i)"
      ],
      "metadata": {
        "colab": {
          "base_uri": "https://localhost:8080/"
        },
        "id": "r0TQl9tZM12z",
        "outputId": "39800b34-e605-47e0-81d3-fb563e547a21"
      },
      "execution_count": 54,
      "outputs": [
        {
          "output_type": "stream",
          "name": "stdout",
          "text": [
            "12\n",
            "13\n",
            "14\n",
            "15\n",
            "16\n",
            "17\n",
            "18\n",
            "19\n",
            "20\n",
            "21\n",
            "22\n",
            "23\n"
          ]
        }
      ]
    },
    {
      "cell_type": "markdown",
      "source": [
        "transpose"
      ],
      "metadata": {
        "id": "8xYGY-l4NBnB"
      }
    },
    {
      "cell_type": "code",
      "source": [
        "np.transpose(b)\n",
        "b.T"
      ],
      "metadata": {
        "colab": {
          "base_uri": "https://localhost:8080/"
        },
        "id": "l1Nvd1XWM6zm",
        "outputId": "932a5731-93c6-40ce-a2f3-6539c6b4bc9b"
      },
      "execution_count": 55,
      "outputs": [
        {
          "output_type": "execute_result",
          "data": {
            "text/plain": [
              "array([[12, 15, 18, 21],\n",
              "       [13, 16, 19, 22],\n",
              "       [14, 17, 20, 23]])"
            ]
          },
          "metadata": {},
          "execution_count": 55
        }
      ]
    },
    {
      "cell_type": "markdown",
      "source": [
        "ravel"
      ],
      "metadata": {
        "id": "GKwSyEvKNPpy"
      }
    },
    {
      "cell_type": "code",
      "source": [
        "b.ravel()"
      ],
      "metadata": {
        "colab": {
          "base_uri": "https://localhost:8080/"
        },
        "id": "kIn7750gNKGP",
        "outputId": "c7087cea-6924-458b-ef5d-3591151db56f"
      },
      "execution_count": 56,
      "outputs": [
        {
          "output_type": "execute_result",
          "data": {
            "text/plain": [
              "array([12, 13, 14, 15, 16, 17, 18, 19, 20, 21, 22, 23])"
            ]
          },
          "metadata": {},
          "execution_count": 56
        }
      ]
    },
    {
      "cell_type": "markdown",
      "source": [
        "**Indexing and Slicing**"
      ],
      "metadata": {
        "id": "67ex-VqJNWTF"
      }
    },
    {
      "cell_type": "code",
      "source": [
        "b"
      ],
      "metadata": {
        "colab": {
          "base_uri": "https://localhost:8080/"
        },
        "id": "HkOUc43rNOPt",
        "outputId": "d82c00b3-674f-4d2a-dad7-6562b418cc6b"
      },
      "execution_count": 57,
      "outputs": [
        {
          "output_type": "execute_result",
          "data": {
            "text/plain": [
              "array([[12, 13, 14],\n",
              "       [15, 16, 17],\n",
              "       [18, 19, 20],\n",
              "       [21, 22, 23]])"
            ]
          },
          "metadata": {},
          "execution_count": 57
        }
      ]
    },
    {
      "cell_type": "code",
      "source": [
        "b[1,0]"
      ],
      "metadata": {
        "colab": {
          "base_uri": "https://localhost:8080/"
        },
        "id": "Ub6mlcM-NbTG",
        "outputId": "7b9d1377-404b-458d-d789-07196014c174"
      },
      "execution_count": 58,
      "outputs": [
        {
          "output_type": "execute_result",
          "data": {
            "text/plain": [
              "np.int64(15)"
            ]
          },
          "metadata": {},
          "execution_count": 58
        }
      ]
    },
    {
      "cell_type": "code",
      "source": [
        "b[1,1]"
      ],
      "metadata": {
        "colab": {
          "base_uri": "https://localhost:8080/"
        },
        "id": "b8CKRz7yNhpf",
        "outputId": "5e34cba8-45b7-4341-fd13-1a98c2a6da72"
      },
      "execution_count": 59,
      "outputs": [
        {
          "output_type": "execute_result",
          "data": {
            "text/plain": [
              "np.int64(16)"
            ]
          },
          "metadata": {},
          "execution_count": 59
        }
      ]
    },
    {
      "cell_type": "code",
      "source": [
        "b[2:5:2]"
      ],
      "metadata": {
        "colab": {
          "base_uri": "https://localhost:8080/"
        },
        "id": "dXB-QkTpNmo1",
        "outputId": "c00bf476-6cfe-4840-fc51-d6f59528db68"
      },
      "execution_count": 60,
      "outputs": [
        {
          "output_type": "execute_result",
          "data": {
            "text/plain": [
              "array([[18, 19, 20]])"
            ]
          },
          "metadata": {},
          "execution_count": 60
        }
      ]
    },
    {
      "cell_type": "code",
      "source": [
        "b[0:2,1::2]"
      ],
      "metadata": {
        "colab": {
          "base_uri": "https://localhost:8080/"
        },
        "id": "xvu78ILhNqp6",
        "outputId": "0033fd51-6c4f-4a41-c8ba-0ae71514e709"
      },
      "execution_count": 61,
      "outputs": [
        {
          "output_type": "execute_result",
          "data": {
            "text/plain": [
              "array([[13],\n",
              "       [16]])"
            ]
          },
          "metadata": {},
          "execution_count": 61
        }
      ]
    },
    {
      "cell_type": "code",
      "source": [
        "b[::2,1::2]"
      ],
      "metadata": {
        "colab": {
          "base_uri": "https://localhost:8080/"
        },
        "id": "jsxnOedoNxsp",
        "outputId": "338ac994-73fa-4150-a82b-bb0c2a1bd2bb"
      },
      "execution_count": 62,
      "outputs": [
        {
          "output_type": "execute_result",
          "data": {
            "text/plain": [
              "array([[13],\n",
              "       [19]])"
            ]
          },
          "metadata": {},
          "execution_count": 62
        }
      ]
    },
    {
      "cell_type": "code",
      "source": [
        "b[1,::3]"
      ],
      "metadata": {
        "colab": {
          "base_uri": "https://localhost:8080/"
        },
        "id": "J0CH3MwGOHXn",
        "outputId": "9df8cd95-8430-4666-e237-c7419e1ce550"
      },
      "execution_count": 63,
      "outputs": [
        {
          "output_type": "execute_result",
          "data": {
            "text/plain": [
              "array([15])"
            ]
          },
          "metadata": {},
          "execution_count": 63
        }
      ]
    },
    {
      "cell_type": "code",
      "source": [
        "b[0,:]"
      ],
      "metadata": {
        "colab": {
          "base_uri": "https://localhost:8080/"
        },
        "id": "ggqVncA0ONZ8",
        "outputId": "d14c28b1-1e78-40c1-c426-66a879c85baf"
      },
      "execution_count": 64,
      "outputs": [
        {
          "output_type": "execute_result",
          "data": {
            "text/plain": [
              "array([12, 13, 14])"
            ]
          },
          "metadata": {},
          "execution_count": 64
        }
      ]
    },
    {
      "cell_type": "code",
      "source": [
        "b[:,2]"
      ],
      "metadata": {
        "colab": {
          "base_uri": "https://localhost:8080/"
        },
        "id": "-dxuH9WuOcJ6",
        "outputId": "4997a4c3-22a3-419d-af3f-94bf34c8362b"
      },
      "execution_count": 65,
      "outputs": [
        {
          "output_type": "execute_result",
          "data": {
            "text/plain": [
              "array([14, 17, 20, 23])"
            ]
          },
          "metadata": {},
          "execution_count": 65
        }
      ]
    },
    {
      "cell_type": "code",
      "source": [
        "b[1:,1:3]"
      ],
      "metadata": {
        "colab": {
          "base_uri": "https://localhost:8080/"
        },
        "id": "kM-HE-H8Ogab",
        "outputId": "69983423-65a9-47a1-c183-e3c293a587c3"
      },
      "execution_count": 66,
      "outputs": [
        {
          "output_type": "execute_result",
          "data": {
            "text/plain": [
              "array([[16, 17],\n",
              "       [19, 20],\n",
              "       [22, 23]])"
            ]
          },
          "metadata": {},
          "execution_count": 66
        }
      ]
    },
    {
      "cell_type": "code",
      "source": [
        "c = np.arange(27).reshape(3,3,3)\n",
        "c"
      ],
      "metadata": {
        "colab": {
          "base_uri": "https://localhost:8080/"
        },
        "id": "Z60LCB96On4d",
        "outputId": "56d576dd-3b5b-41bb-e3ca-9b800cecc638"
      },
      "execution_count": 68,
      "outputs": [
        {
          "output_type": "execute_result",
          "data": {
            "text/plain": [
              "array([[[ 0,  1,  2],\n",
              "        [ 3,  4,  5],\n",
              "        [ 6,  7,  8]],\n",
              "\n",
              "       [[ 9, 10, 11],\n",
              "        [12, 13, 14],\n",
              "        [15, 16, 17]],\n",
              "\n",
              "       [[18, 19, 20],\n",
              "        [21, 22, 23],\n",
              "        [24, 25, 26]]])"
            ]
          },
          "metadata": {},
          "execution_count": 68
        }
      ]
    },
    {
      "cell_type": "code",
      "source": [
        "c[::2,0,::2]"
      ],
      "metadata": {
        "colab": {
          "base_uri": "https://localhost:8080/"
        },
        "id": "VG_BF8NUOwQ6",
        "outputId": "cb6b6f31-4f67-43c4-ba53-7641c7bfd880"
      },
      "execution_count": 69,
      "outputs": [
        {
          "output_type": "execute_result",
          "data": {
            "text/plain": [
              "array([[ 0,  2],\n",
              "       [18, 20]])"
            ]
          },
          "metadata": {},
          "execution_count": 69
        }
      ]
    },
    {
      "cell_type": "code",
      "source": [
        "c[2,1:,1:]"
      ],
      "metadata": {
        "colab": {
          "base_uri": "https://localhost:8080/"
        },
        "id": "ly_9O0ZbO2fk",
        "outputId": "f2ee65df-29e3-44a1-ab8c-e6862ebeb859"
      },
      "execution_count": 70,
      "outputs": [
        {
          "output_type": "execute_result",
          "data": {
            "text/plain": [
              "array([[22, 23],\n",
              "       [25, 26]])"
            ]
          },
          "metadata": {},
          "execution_count": 70
        }
      ]
    },
    {
      "cell_type": "code",
      "source": [
        "c[0,1,:]"
      ],
      "metadata": {
        "colab": {
          "base_uri": "https://localhost:8080/"
        },
        "id": "4q4gID-QO-k5",
        "outputId": "491a52a3-61f1-483f-ca50-ff564f9bf18c"
      },
      "execution_count": 71,
      "outputs": [
        {
          "output_type": "execute_result",
          "data": {
            "text/plain": [
              "array([3, 4, 5])"
            ]
          },
          "metadata": {},
          "execution_count": 71
        }
      ]
    },
    {
      "cell_type": "code",
      "source": [
        "c[::,:2:3,1::2]"
      ],
      "metadata": {
        "colab": {
          "base_uri": "https://localhost:8080/"
        },
        "id": "D5geeBwaPHfH",
        "outputId": "03d0a310-a782-4a15-93ea-c7ce3f74c328"
      },
      "execution_count": 72,
      "outputs": [
        {
          "output_type": "execute_result",
          "data": {
            "text/plain": [
              "array([[[ 1]],\n",
              "\n",
              "       [[10]],\n",
              "\n",
              "       [[19]]])"
            ]
          },
          "metadata": {},
          "execution_count": 72
        }
      ]
    },
    {
      "cell_type": "code",
      "source": [],
      "metadata": {
        "id": "GrosjsNgP285"
      },
      "execution_count": null,
      "outputs": []
    }
  ]
}