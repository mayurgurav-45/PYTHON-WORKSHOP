{
  "nbformat": 4,
  "nbformat_minor": 0,
  "metadata": {
    "colab": {
      "provenance": [],
      "authorship_tag": "ABX9TyO2I4sKSxGZ+KN3gSeuh7SM",
      "include_colab_link": true
    },
    "kernelspec": {
      "name": "python3",
      "display_name": "Python 3"
    },
    "language_info": {
      "name": "python"
    }
  },
  "cells": [
    {
      "cell_type": "markdown",
      "metadata": {
        "id": "view-in-github",
        "colab_type": "text"
      },
      "source": [
        "<a href=\"https://colab.research.google.com/github/mayurgurav-45/PYTHON-WORKSHOP/blob/main/Python_Workshop.ipynb\" target=\"_parent\"><img src=\"https://colab.research.google.com/assets/colab-badge.svg\" alt=\"Open In Colab\"/></a>"
      ]
    },
    {
      "cell_type": "markdown",
      "source": [
        "**Import Libraries**"
      ],
      "metadata": {
        "id": "-Z5KL3AepNZn"
      }
    },
    {
      "cell_type": "code",
      "execution_count": null,
      "metadata": {
        "id": "x8tJ7qQCmm2_"
      },
      "outputs": [],
      "source": [
        "import re"
      ]
    },
    {
      "cell_type": "markdown",
      "source": [
        "**Raw Strings**"
      ],
      "metadata": {
        "id": "KjhH4pLopYRs"
      }
    },
    {
      "cell_type": "code",
      "source": [
        "print(\"Hello\\nWorld\")\n",
        "print(r\"Hello\\nWorld\")"
      ],
      "metadata": {
        "colab": {
          "base_uri": "https://localhost:8080/"
        },
        "id": "dXmiieMXo9Fn",
        "outputId": "e6a61c08-314f-437e-e059-147815dd174e"
      },
      "execution_count": null,
      "outputs": [
        {
          "output_type": "stream",
          "name": "stdout",
          "text": [
            "Hello\n",
            "World\n",
            "Hello\\nWorld\n"
          ]
        }
      ]
    },
    {
      "cell_type": "markdown",
      "source": [
        "**Search Operations**"
      ],
      "metadata": {
        "id": "godeYcALpbyF"
      }
    },
    {
      "cell_type": "code",
      "source": [
        "test_string = \"123abc456789abc123ABC\""
      ],
      "metadata": {
        "id": "GN41dfrtpLHo"
      },
      "execution_count": null,
      "outputs": []
    },
    {
      "cell_type": "code",
      "source": [
        "pattern = re.compile(r\"abc\")\n",
        "match = re.match(pattern, test_string)\n",
        "print(match)"
      ],
      "metadata": {
        "colab": {
          "base_uri": "https://localhost:8080/"
        },
        "id": "XHTXR6y1p2CD",
        "outputId": "f3273488-7518-4fbc-d519-01f4a3e4288c"
      },
      "execution_count": null,
      "outputs": [
        {
          "output_type": "stream",
          "name": "stdout",
          "text": [
            "None\n"
          ]
        }
      ]
    },
    {
      "cell_type": "code",
      "source": [
        "pattern = re.compile(r\"123\")\n",
        "match = re.match(pattern, test_string)\n",
        "print(match)"
      ],
      "metadata": {
        "colab": {
          "base_uri": "https://localhost:8080/"
        },
        "id": "dslkkJJYqmMq",
        "outputId": "066e3492-82b0-463b-d363-b4d64156394d"
      },
      "execution_count": null,
      "outputs": [
        {
          "output_type": "stream",
          "name": "stdout",
          "text": [
            "<re.Match object; span=(0, 3), match='123'>\n"
          ]
        }
      ]
    },
    {
      "cell_type": "code",
      "source": [
        "match.span()"
      ],
      "metadata": {
        "colab": {
          "base_uri": "https://localhost:8080/"
        },
        "id": "iemYCkNmrEab",
        "outputId": "1ca5fe6a-0555-47d0-b5eb-aa67c76cc2b6"
      },
      "execution_count": null,
      "outputs": [
        {
          "output_type": "execute_result",
          "data": {
            "text/plain": [
              "(0, 3)"
            ]
          },
          "metadata": {},
          "execution_count": 7
        }
      ]
    },
    {
      "cell_type": "code",
      "source": [
        "start_index, end_index = match.span()\n",
        "test_string[start_index:end_index]"
      ],
      "metadata": {
        "colab": {
          "base_uri": "https://localhost:8080/",
          "height": 35
        },
        "id": "Uca-VIJbrUV1",
        "outputId": "f1fb95cb-9398-496e-d90d-750d78870bb4"
      },
      "execution_count": null,
      "outputs": [
        {
          "output_type": "execute_result",
          "data": {
            "text/plain": [
              "'123'"
            ],
            "application/vnd.google.colaboratory.intrinsic+json": {
              "type": "string"
            }
          },
          "metadata": {},
          "execution_count": 8
        }
      ]
    },
    {
      "cell_type": "code",
      "source": [
        "match.start()"
      ],
      "metadata": {
        "colab": {
          "base_uri": "https://localhost:8080/"
        },
        "id": "9f_BIyYmrv9w",
        "outputId": "10223369-168e-4fe0-d285-f4561cb72efc"
      },
      "execution_count": null,
      "outputs": [
        {
          "output_type": "execute_result",
          "data": {
            "text/plain": [
              "0"
            ]
          },
          "metadata": {},
          "execution_count": 9
        }
      ]
    },
    {
      "cell_type": "code",
      "source": [
        "match.end()"
      ],
      "metadata": {
        "colab": {
          "base_uri": "https://localhost:8080/"
        },
        "id": "YVAjKENhr2MY",
        "outputId": "d3cf48ed-2b5a-457a-8801-c643962227a1"
      },
      "execution_count": null,
      "outputs": [
        {
          "output_type": "execute_result",
          "data": {
            "text/plain": [
              "3"
            ]
          },
          "metadata": {},
          "execution_count": 10
        }
      ]
    },
    {
      "cell_type": "code",
      "source": [
        "match.group()"
      ],
      "metadata": {
        "colab": {
          "base_uri": "https://localhost:8080/",
          "height": 35
        },
        "id": "xI44l3ccr7Ch",
        "outputId": "d7cc5e32-8f71-48e2-8817-fc4857828e9c"
      },
      "execution_count": null,
      "outputs": [
        {
          "output_type": "execute_result",
          "data": {
            "text/plain": [
              "'123'"
            ],
            "application/vnd.google.colaboratory.intrinsic+json": {
              "type": "string"
            }
          },
          "metadata": {},
          "execution_count": 11
        }
      ]
    },
    {
      "cell_type": "code",
      "source": [
        "pattern = re.compile(r\"abc\")\n",
        "match = re.search(pattern, test_string)\n",
        "match"
      ],
      "metadata": {
        "colab": {
          "base_uri": "https://localhost:8080/"
        },
        "id": "qCBqPC-OsMj9",
        "outputId": "8a1415c5-d7d8-4f57-cbc6-4a56bcd0ef35"
      },
      "execution_count": null,
      "outputs": [
        {
          "output_type": "execute_result",
          "data": {
            "text/plain": [
              "<re.Match object; span=(3, 6), match='abc'>"
            ]
          },
          "metadata": {},
          "execution_count": 18
        }
      ]
    },
    {
      "cell_type": "code",
      "source": [
        "match.group()"
      ],
      "metadata": {
        "colab": {
          "base_uri": "https://localhost:8080/",
          "height": 35
        },
        "id": "8eIb3nKwskwk",
        "outputId": "f3165c1c-d88f-4087-95db-af33d62d4c00"
      },
      "execution_count": null,
      "outputs": [
        {
          "output_type": "execute_result",
          "data": {
            "text/plain": [
              "'abc'"
            ],
            "application/vnd.google.colaboratory.intrinsic+json": {
              "type": "string"
            }
          },
          "metadata": {},
          "execution_count": 19
        }
      ]
    },
    {
      "cell_type": "code",
      "source": [
        "start_index, end_index = match.span()\n",
        "test_string[start_index:end_index]"
      ],
      "metadata": {
        "colab": {
          "base_uri": "https://localhost:8080/",
          "height": 35
        },
        "id": "7FBGXCGXtMoZ",
        "outputId": "dc0528c4-b39d-40a5-b851-109be26aee0e"
      },
      "execution_count": null,
      "outputs": [
        {
          "output_type": "execute_result",
          "data": {
            "text/plain": [
              "'abc'"
            ],
            "application/vnd.google.colaboratory.intrinsic+json": {
              "type": "string"
            }
          },
          "metadata": {},
          "execution_count": 20
        }
      ]
    },
    {
      "cell_type": "code",
      "source": [
        "pattern = re.compile(r\"abc\")\n",
        "match = re.findall(pattern, test_string)\n",
        "match"
      ],
      "metadata": {
        "colab": {
          "base_uri": "https://localhost:8080/"
        },
        "id": "HkcNAw9qttuE",
        "outputId": "4d264c17-f9c9-45b4-ccd5-fa2a119908e7"
      },
      "execution_count": null,
      "outputs": [
        {
          "output_type": "execute_result",
          "data": {
            "text/plain": [
              "['abc', 'abc']"
            ]
          },
          "metadata": {},
          "execution_count": 21
        }
      ]
    },
    {
      "cell_type": "code",
      "source": [
        "pattern = re.compile(r\"abc\")\n",
        "match = re.finditer(pattern, test_string)\n",
        "for match in match:\n",
        "  print(match)"
      ],
      "metadata": {
        "colab": {
          "base_uri": "https://localhost:8080/"
        },
        "id": "QwlGJ9QPuGze",
        "outputId": "988e64f4-0304-4990-a44a-7ac24f8e4bb6"
      },
      "execution_count": null,
      "outputs": [
        {
          "output_type": "stream",
          "name": "stdout",
          "text": [
            "<re.Match object; span=(3, 6), match='abc'>\n",
            "<re.Match object; span=(12, 15), match='abc'>\n"
          ]
        }
      ]
    },
    {
      "cell_type": "markdown",
      "source": [
        "**Meta Characters**"
      ],
      "metadata": {
        "id": "9GD3xQu_uxvH"
      }
    },
    {
      "cell_type": "code",
      "source": [
        "test_string_1 = \"123abc.456789abc123defGHI.ABC \\n xyz345WXYZ\""
      ],
      "metadata": {
        "id": "hDY8d5YquuCL"
      },
      "execution_count": null,
      "outputs": []
    },
    {
      "cell_type": "code",
      "source": [
        "test_string_2 = \"The cat sat on the mat with a bat and a hat.\""
      ],
      "metadata": {
        "id": "JXu83-EMu7bs"
      },
      "execution_count": null,
      "outputs": []
    },
    {
      "cell_type": "code",
      "source": [
        "test_string_3 = \"The cat sat on the mat with a bat and a hat. $at, 8at, at.\""
      ],
      "metadata": {
        "id": "olRNtmv1u99s"
      },
      "execution_count": null,
      "outputs": []
    },
    {
      "cell_type": "code",
      "source": [
        "text = \"\"\"Hello World!\n",
        "This is a test.\n",
        "Hello Python!\n",
        "Python is fun.\n",
        "Hi Python\n",
        "\"\"\""
      ],
      "metadata": {
        "id": "z4siCIzsvAes"
      },
      "execution_count": null,
      "outputs": []
    },
    {
      "cell_type": "markdown",
      "source": [
        "**Dot**"
      ],
      "metadata": {
        "id": "aTolwSwDvq6F"
      }
    },
    {
      "cell_type": "code",
      "source": [
        "pattern = re.compile(r\".\")\n",
        "match = re.finditer(pattern, test_string_1)\n",
        "for match in match:\n",
        "  print(match)"
      ],
      "metadata": {
        "colab": {
          "base_uri": "https://localhost:8080/"
        },
        "id": "bfwPkWO6vjrw",
        "outputId": "60a7d00e-9688-4f0d-f6a6-7ac2a0d0bb95"
      },
      "execution_count": null,
      "outputs": [
        {
          "output_type": "stream",
          "name": "stdout",
          "text": [
            "<re.Match object; span=(0, 1), match='1'>\n",
            "<re.Match object; span=(1, 2), match='2'>\n",
            "<re.Match object; span=(2, 3), match='3'>\n",
            "<re.Match object; span=(3, 4), match='a'>\n",
            "<re.Match object; span=(4, 5), match='b'>\n",
            "<re.Match object; span=(5, 6), match='c'>\n",
            "<re.Match object; span=(6, 7), match='.'>\n",
            "<re.Match object; span=(7, 8), match='4'>\n",
            "<re.Match object; span=(8, 9), match='5'>\n",
            "<re.Match object; span=(9, 10), match='6'>\n",
            "<re.Match object; span=(10, 11), match='7'>\n",
            "<re.Match object; span=(11, 12), match='8'>\n",
            "<re.Match object; span=(12, 13), match='9'>\n",
            "<re.Match object; span=(13, 14), match='a'>\n",
            "<re.Match object; span=(14, 15), match='b'>\n",
            "<re.Match object; span=(15, 16), match='c'>\n",
            "<re.Match object; span=(16, 17), match='1'>\n",
            "<re.Match object; span=(17, 18), match='2'>\n",
            "<re.Match object; span=(18, 19), match='3'>\n",
            "<re.Match object; span=(19, 20), match='d'>\n",
            "<re.Match object; span=(20, 21), match='e'>\n",
            "<re.Match object; span=(21, 22), match='f'>\n",
            "<re.Match object; span=(22, 23), match='G'>\n",
            "<re.Match object; span=(23, 24), match='H'>\n",
            "<re.Match object; span=(24, 25), match='I'>\n",
            "<re.Match object; span=(25, 26), match='.'>\n",
            "<re.Match object; span=(26, 27), match='A'>\n",
            "<re.Match object; span=(27, 28), match='B'>\n",
            "<re.Match object; span=(28, 29), match='C'>\n",
            "<re.Match object; span=(29, 30), match=' '>\n",
            "<re.Match object; span=(31, 32), match=' '>\n",
            "<re.Match object; span=(32, 33), match='x'>\n",
            "<re.Match object; span=(33, 34), match='y'>\n",
            "<re.Match object; span=(34, 35), match='z'>\n",
            "<re.Match object; span=(35, 36), match='3'>\n",
            "<re.Match object; span=(36, 37), match='4'>\n",
            "<re.Match object; span=(37, 38), match='5'>\n",
            "<re.Match object; span=(38, 39), match='W'>\n",
            "<re.Match object; span=(39, 40), match='X'>\n",
            "<re.Match object; span=(40, 41), match='Y'>\n",
            "<re.Match object; span=(41, 42), match='Z'>\n"
          ]
        }
      ]
    },
    {
      "cell_type": "code",
      "source": [
        "print(test_string_2, end=\"\\n\\n\")\n",
        "pattern = re.compile(r\".\")\n",
        "match = re.finditer(pattern, test_string_2)\n",
        "for match in match:\n",
        "  print(match)"
      ],
      "metadata": {
        "colab": {
          "base_uri": "https://localhost:8080/"
        },
        "id": "6TL46QG0wKH8",
        "outputId": "09010329-4dd3-4b5b-84fe-8d13dfc5bad0"
      },
      "execution_count": null,
      "outputs": [
        {
          "output_type": "stream",
          "name": "stdout",
          "text": [
            "The cat sat on the mat with a bat and a hat.\n",
            "\n",
            "<re.Match object; span=(0, 1), match='T'>\n",
            "<re.Match object; span=(1, 2), match='h'>\n",
            "<re.Match object; span=(2, 3), match='e'>\n",
            "<re.Match object; span=(3, 4), match=' '>\n",
            "<re.Match object; span=(4, 5), match='c'>\n",
            "<re.Match object; span=(5, 6), match='a'>\n",
            "<re.Match object; span=(6, 7), match='t'>\n",
            "<re.Match object; span=(7, 8), match=' '>\n",
            "<re.Match object; span=(8, 9), match='s'>\n",
            "<re.Match object; span=(9, 10), match='a'>\n",
            "<re.Match object; span=(10, 11), match='t'>\n",
            "<re.Match object; span=(11, 12), match=' '>\n",
            "<re.Match object; span=(12, 13), match='o'>\n",
            "<re.Match object; span=(13, 14), match='n'>\n",
            "<re.Match object; span=(14, 15), match=' '>\n",
            "<re.Match object; span=(15, 16), match='t'>\n",
            "<re.Match object; span=(16, 17), match='h'>\n",
            "<re.Match object; span=(17, 18), match='e'>\n",
            "<re.Match object; span=(18, 19), match=' '>\n",
            "<re.Match object; span=(19, 20), match='m'>\n",
            "<re.Match object; span=(20, 21), match='a'>\n",
            "<re.Match object; span=(21, 22), match='t'>\n",
            "<re.Match object; span=(22, 23), match=' '>\n",
            "<re.Match object; span=(23, 24), match='w'>\n",
            "<re.Match object; span=(24, 25), match='i'>\n",
            "<re.Match object; span=(25, 26), match='t'>\n",
            "<re.Match object; span=(26, 27), match='h'>\n",
            "<re.Match object; span=(27, 28), match=' '>\n",
            "<re.Match object; span=(28, 29), match='a'>\n",
            "<re.Match object; span=(29, 30), match=' '>\n",
            "<re.Match object; span=(30, 31), match='b'>\n",
            "<re.Match object; span=(31, 32), match='a'>\n",
            "<re.Match object; span=(32, 33), match='t'>\n",
            "<re.Match object; span=(33, 34), match=' '>\n",
            "<re.Match object; span=(34, 35), match='a'>\n",
            "<re.Match object; span=(35, 36), match='n'>\n",
            "<re.Match object; span=(36, 37), match='d'>\n",
            "<re.Match object; span=(37, 38), match=' '>\n",
            "<re.Match object; span=(38, 39), match='a'>\n",
            "<re.Match object; span=(39, 40), match=' '>\n",
            "<re.Match object; span=(40, 41), match='h'>\n",
            "<re.Match object; span=(41, 42), match='a'>\n",
            "<re.Match object; span=(42, 43), match='t'>\n",
            "<re.Match object; span=(43, 44), match='.'>\n"
          ]
        }
      ]
    },
    {
      "cell_type": "code",
      "source": [
        "print(test_string_3, end=\"\\n\\n\")\n",
        "pattern = re.compile(r\".\")\n",
        "match = re.finditer(pattern, test_string_3)\n",
        "for match in match:\n",
        "  print(match)"
      ],
      "metadata": {
        "colab": {
          "base_uri": "https://localhost:8080/"
        },
        "id": "AA1_T8Z2wn0P",
        "outputId": "5b41eabb-a04b-4d7f-b871-5f0c43b551d8"
      },
      "execution_count": null,
      "outputs": [
        {
          "output_type": "stream",
          "name": "stdout",
          "text": [
            "The cat sat on the mat with a bat and a hat. $at, 8at, at.\n",
            "\n",
            "<re.Match object; span=(0, 1), match='T'>\n",
            "<re.Match object; span=(1, 2), match='h'>\n",
            "<re.Match object; span=(2, 3), match='e'>\n",
            "<re.Match object; span=(3, 4), match=' '>\n",
            "<re.Match object; span=(4, 5), match='c'>\n",
            "<re.Match object; span=(5, 6), match='a'>\n",
            "<re.Match object; span=(6, 7), match='t'>\n",
            "<re.Match object; span=(7, 8), match=' '>\n",
            "<re.Match object; span=(8, 9), match='s'>\n",
            "<re.Match object; span=(9, 10), match='a'>\n",
            "<re.Match object; span=(10, 11), match='t'>\n",
            "<re.Match object; span=(11, 12), match=' '>\n",
            "<re.Match object; span=(12, 13), match='o'>\n",
            "<re.Match object; span=(13, 14), match='n'>\n",
            "<re.Match object; span=(14, 15), match=' '>\n",
            "<re.Match object; span=(15, 16), match='t'>\n",
            "<re.Match object; span=(16, 17), match='h'>\n",
            "<re.Match object; span=(17, 18), match='e'>\n",
            "<re.Match object; span=(18, 19), match=' '>\n",
            "<re.Match object; span=(19, 20), match='m'>\n",
            "<re.Match object; span=(20, 21), match='a'>\n",
            "<re.Match object; span=(21, 22), match='t'>\n",
            "<re.Match object; span=(22, 23), match=' '>\n",
            "<re.Match object; span=(23, 24), match='w'>\n",
            "<re.Match object; span=(24, 25), match='i'>\n",
            "<re.Match object; span=(25, 26), match='t'>\n",
            "<re.Match object; span=(26, 27), match='h'>\n",
            "<re.Match object; span=(27, 28), match=' '>\n",
            "<re.Match object; span=(28, 29), match='a'>\n",
            "<re.Match object; span=(29, 30), match=' '>\n",
            "<re.Match object; span=(30, 31), match='b'>\n",
            "<re.Match object; span=(31, 32), match='a'>\n",
            "<re.Match object; span=(32, 33), match='t'>\n",
            "<re.Match object; span=(33, 34), match=' '>\n",
            "<re.Match object; span=(34, 35), match='a'>\n",
            "<re.Match object; span=(35, 36), match='n'>\n",
            "<re.Match object; span=(36, 37), match='d'>\n",
            "<re.Match object; span=(37, 38), match=' '>\n",
            "<re.Match object; span=(38, 39), match='a'>\n",
            "<re.Match object; span=(39, 40), match=' '>\n",
            "<re.Match object; span=(40, 41), match='h'>\n",
            "<re.Match object; span=(41, 42), match='a'>\n",
            "<re.Match object; span=(42, 43), match='t'>\n",
            "<re.Match object; span=(43, 44), match='.'>\n",
            "<re.Match object; span=(44, 45), match=' '>\n",
            "<re.Match object; span=(45, 46), match='$'>\n",
            "<re.Match object; span=(46, 47), match='a'>\n",
            "<re.Match object; span=(47, 48), match='t'>\n",
            "<re.Match object; span=(48, 49), match=','>\n",
            "<re.Match object; span=(49, 50), match=' '>\n",
            "<re.Match object; span=(50, 51), match='8'>\n",
            "<re.Match object; span=(51, 52), match='a'>\n",
            "<re.Match object; span=(52, 53), match='t'>\n",
            "<re.Match object; span=(53, 54), match=','>\n",
            "<re.Match object; span=(54, 55), match=' '>\n",
            "<re.Match object; span=(55, 56), match='a'>\n",
            "<re.Match object; span=(56, 57), match='t'>\n",
            "<re.Match object; span=(57, 58), match='.'>\n"
          ]
        }
      ]
    },
    {
      "cell_type": "markdown",
      "source": [
        "**Carat**"
      ],
      "metadata": {
        "id": "G59MYFuzxOoZ"
      }
    },
    {
      "cell_type": "code",
      "source": [
        "print(text, end=\"\\n\\n\")\n",
        "pattern = re.compile(r\"Hello\")\n",
        "match = re.finditer(pattern, text)\n",
        "for match in match:\n",
        "  print(match)"
      ],
      "metadata": {
        "colab": {
          "base_uri": "https://localhost:8080/"
        },
        "id": "rRgYG0mIxI9T",
        "outputId": "27faf8ef-145b-449a-9877-f23673f18f26"
      },
      "execution_count": null,
      "outputs": [
        {
          "output_type": "stream",
          "name": "stdout",
          "text": [
            "Hello World!\n",
            "This is a test.\n",
            "Hello Python!\n",
            "Python is fun.\n",
            "Hi Python\n",
            "\n",
            "\n",
            "<re.Match object; span=(0, 5), match='Hello'>\n",
            "<re.Match object; span=(29, 34), match='Hello'>\n"
          ]
        }
      ]
    },
    {
      "cell_type": "code",
      "source": [
        "print(text, end=\"\\n\\n\")\n",
        "pattern = re.compile(r\"^Hello\")\n",
        "match = re.finditer(pattern, text)\n",
        "for match in match:\n",
        "  print(match)"
      ],
      "metadata": {
        "colab": {
          "base_uri": "https://localhost:8080/"
        },
        "id": "OON9HHFnxgcN",
        "outputId": "dde6f075-855b-4380-8808-80974c296215"
      },
      "execution_count": null,
      "outputs": [
        {
          "output_type": "stream",
          "name": "stdout",
          "text": [
            "Hello World!\n",
            "This is a test.\n",
            "Hello Python!\n",
            "Python is fun.\n",
            "Hi Python\n",
            "\n",
            "\n",
            "<re.Match object; span=(0, 5), match='Hello'>\n"
          ]
        }
      ]
    },
    {
      "cell_type": "markdown",
      "source": [
        "**Doller**"
      ],
      "metadata": {
        "id": "K8aaLnzZx4ev"
      }
    },
    {
      "cell_type": "code",
      "source": [
        "print(text, end=\"\\n\\n\")\n",
        "pattern = re.compile(r\"Python\")\n",
        "match = re.finditer(pattern, text)\n",
        "for match in match:\n",
        "  print(match)\n"
      ],
      "metadata": {
        "colab": {
          "base_uri": "https://localhost:8080/"
        },
        "id": "IvSlsQLDxu9v",
        "outputId": "cc4cd3c6-5d4e-41ff-df13-033f051fecc2"
      },
      "execution_count": null,
      "outputs": [
        {
          "output_type": "stream",
          "name": "stdout",
          "text": [
            "Hello World!\n",
            "This is a test.\n",
            "Hello Python!\n",
            "Python is fun.\n",
            "Hi Python\n",
            "\n",
            "\n",
            "<re.Match object; span=(35, 41), match='Python'>\n",
            "<re.Match object; span=(43, 49), match='Python'>\n",
            "<re.Match object; span=(61, 67), match='Python'>\n"
          ]
        }
      ]
    },
    {
      "cell_type": "code",
      "source": [
        "print(text, end=\"\\n\\n\")\n",
        "pattern = re.compile(r\"Python$\")\n",
        "match = re.finditer(pattern, text)\n",
        "for match in match:\n",
        "  print(match)"
      ],
      "metadata": {
        "colab": {
          "base_uri": "https://localhost:8080/"
        },
        "id": "MH3qI-ZjyU8z",
        "outputId": "4f7efba7-0d55-47de-c5d8-7bc75ea92e77"
      },
      "execution_count": null,
      "outputs": [
        {
          "output_type": "stream",
          "name": "stdout",
          "text": [
            "Hello World!\n",
            "This is a test.\n",
            "Hello Python!\n",
            "Python is fun.\n",
            "Hi Python\n",
            "\n",
            "\n",
            "<re.Match object; span=(61, 67), match='Python'>\n"
          ]
        }
      ]
    },
    {
      "cell_type": "markdown",
      "source": [
        "**Character Sets**"
      ],
      "metadata": {
        "id": "Y23ryZ_j01LA"
      }
    },
    {
      "cell_type": "code",
      "source": [
        "test_string = \"123abc.4567XYZ$89abc123  def%GHIxyz.ABC#i.\""
      ],
      "metadata": {
        "id": "pGyAwrOQ0cTn"
      },
      "execution_count": null,
      "outputs": []
    },
    {
      "cell_type": "markdown",
      "source": [
        "**Literal characters**"
      ],
      "metadata": {
        "id": "IMO_z6wT0_93"
      }
    },
    {
      "cell_type": "markdown",
      "source": [
        "#vowels"
      ],
      "metadata": {
        "id": "GRz3ygkpDHMW"
      }
    },
    {
      "cell_type": "code",
      "source": [
        "print(test_string, end=\"\\n\\n\")\n",
        "pattern = re.compile(r\"[aeiou]\")\n",
        "match = re.finditer(pattern, test_string)\n",
        "for match in match:\n",
        "  print(match)"
      ],
      "metadata": {
        "colab": {
          "base_uri": "https://localhost:8080/"
        },
        "id": "CFdorgSc08OS",
        "outputId": "85db93d1-53ac-4720-8a82-0bebae242926"
      },
      "execution_count": null,
      "outputs": [
        {
          "output_type": "stream",
          "name": "stdout",
          "text": [
            "123abc.4567XYZ$89abc123  def%GHIxyz.ABC#i.\n",
            "\n",
            "<re.Match object; span=(3, 4), match='a'>\n",
            "<re.Match object; span=(17, 18), match='a'>\n",
            "<re.Match object; span=(26, 27), match='e'>\n",
            "<re.Match object; span=(40, 41), match='i'>\n"
          ]
        }
      ]
    },
    {
      "cell_type": "code",
      "source": [
        "print(test_string, end=\"\\n\\n\")\n",
        "pattern = re.compile(r\"[aeiouAEIOU]\")\n",
        "match = re.finditer(pattern, test_string)\n",
        "for match in match:\n",
        "  print(match)"
      ],
      "metadata": {
        "colab": {
          "base_uri": "https://localhost:8080/"
        },
        "id": "QR6dYXru1W6N",
        "outputId": "8c36b04f-a2b9-4278-a551-4d027c3fe9ae"
      },
      "execution_count": null,
      "outputs": [
        {
          "output_type": "stream",
          "name": "stdout",
          "text": [
            "123abc.4567XYZ$89abc123  def%GHIxyz.ABC#i.\n",
            "\n",
            "<re.Match object; span=(3, 4), match='a'>\n",
            "<re.Match object; span=(17, 18), match='a'>\n",
            "<re.Match object; span=(26, 27), match='e'>\n",
            "<re.Match object; span=(31, 32), match='I'>\n",
            "<re.Match object; span=(36, 37), match='A'>\n",
            "<re.Match object; span=(40, 41), match='i'>\n"
          ]
        }
      ]
    },
    {
      "cell_type": "code",
      "source": [
        "print(test_string, end=\"\\n\\n\")\n",
        "pattern  = re.compile(r\"[aeiouAEIOU]\")\n",
        "match = re.findall(pattern, test_string)\n",
        "match"
      ],
      "metadata": {
        "colab": {
          "base_uri": "https://localhost:8080/"
        },
        "id": "5p5zGCnJ1yUP",
        "outputId": "fc5bf31c-0ab2-4644-c0cf-4d7f828a68a2"
      },
      "execution_count": 122,
      "outputs": [
        {
          "output_type": "stream",
          "name": "stdout",
          "text": [
            "123abc.4567XYZ$89abc123  def%GHIxyz.ABC#i.\n",
            "\n"
          ]
        },
        {
          "output_type": "execute_result",
          "data": {
            "text/plain": [
              "['a', 'a', 'e', 'I', 'A', 'i']"
            ]
          },
          "metadata": {},
          "execution_count": 122
        }
      ]
    },
    {
      "cell_type": "markdown",
      "source": [
        "Digit"
      ],
      "metadata": {
        "id": "1CN5kcRADjyF"
      }
    },
    {
      "cell_type": "code",
      "source": [
        "print(test_string, end=\"\\n\\n\")\n",
        "pattern  = re.compile(r\"[0123456789]\")\n",
        "match = re.finditer(pattern, test_string)\n",
        "for match in match:\n",
        "\tprint(match)"
      ],
      "metadata": {
        "colab": {
          "base_uri": "https://localhost:8080/"
        },
        "id": "vTDelwG71984",
        "outputId": "9a74626e-32be-48da-c48f-96e4e4c80889"
      },
      "execution_count": 121,
      "outputs": [
        {
          "output_type": "stream",
          "name": "stdout",
          "text": [
            "123abc.4567XYZ$89abc123  def%GHIxyz.ABC#i.\n",
            "\n",
            "<re.Match object; span=(0, 1), match='1'>\n",
            "<re.Match object; span=(1, 2), match='2'>\n",
            "<re.Match object; span=(2, 3), match='3'>\n",
            "<re.Match object; span=(7, 8), match='4'>\n",
            "<re.Match object; span=(8, 9), match='5'>\n",
            "<re.Match object; span=(9, 10), match='6'>\n",
            "<re.Match object; span=(10, 11), match='7'>\n",
            "<re.Match object; span=(15, 16), match='8'>\n",
            "<re.Match object; span=(16, 17), match='9'>\n",
            "<re.Match object; span=(20, 21), match='1'>\n",
            "<re.Match object; span=(21, 22), match='2'>\n",
            "<re.Match object; span=(22, 23), match='3'>\n"
          ]
        }
      ]
    },
    {
      "cell_type": "markdown",
      "source": [
        "Even Numbers"
      ],
      "metadata": {
        "id": "QJv7p2toDuvs"
      }
    },
    {
      "cell_type": "code",
      "source": [
        "print(test_string, end=\"\\n\\n\")\n",
        "pattern  = re.compile(r\"[2468]\")\n",
        "match = re.finditer(pattern, test_string)\n",
        "for match in match:\n",
        "\tprint(match)"
      ],
      "metadata": {
        "colab": {
          "base_uri": "https://localhost:8080/"
        },
        "id": "v5bvGlR52Lhq",
        "outputId": "f88c046a-747a-4852-d5cf-2661cc59dbcc"
      },
      "execution_count": 120,
      "outputs": [
        {
          "output_type": "stream",
          "name": "stdout",
          "text": [
            "123abc.4567XYZ$89abc123  def%GHIxyz.ABC#i.\n",
            "\n",
            "<re.Match object; span=(1, 2), match='2'>\n",
            "<re.Match object; span=(7, 8), match='4'>\n",
            "<re.Match object; span=(9, 10), match='6'>\n",
            "<re.Match object; span=(15, 16), match='8'>\n",
            "<re.Match object; span=(21, 22), match='2'>\n"
          ]
        }
      ]
    },
    {
      "cell_type": "markdown",
      "source": [
        "**Character Ranges**"
      ],
      "metadata": {
        "id": "gkmqWJQp2aM7"
      }
    },
    {
      "cell_type": "markdown",
      "source": [
        "Digits"
      ],
      "metadata": {
        "id": "rSTKj4i9D07l"
      }
    },
    {
      "cell_type": "code",
      "source": [
        "print(test_string, end=\"\\n\\n\")\n",
        "pattern  = re.compile(r\"[0-9]\")\n",
        "match = re.finditer(pattern, test_string)\n",
        "for match in match:\n",
        "\tprint(match)"
      ],
      "metadata": {
        "id": "WKt8z-Ob2WkD",
        "colab": {
          "base_uri": "https://localhost:8080/"
        },
        "outputId": "0fe8d264-81c8-4106-eb8f-5e6c707aa261"
      },
      "execution_count": 119,
      "outputs": [
        {
          "output_type": "stream",
          "name": "stdout",
          "text": [
            "123abc.4567XYZ$89abc123  def%GHIxyz.ABC#i.\n",
            "\n",
            "<re.Match object; span=(0, 1), match='1'>\n",
            "<re.Match object; span=(1, 2), match='2'>\n",
            "<re.Match object; span=(2, 3), match='3'>\n",
            "<re.Match object; span=(7, 8), match='4'>\n",
            "<re.Match object; span=(8, 9), match='5'>\n",
            "<re.Match object; span=(9, 10), match='6'>\n",
            "<re.Match object; span=(10, 11), match='7'>\n",
            "<re.Match object; span=(15, 16), match='8'>\n",
            "<re.Match object; span=(16, 17), match='9'>\n",
            "<re.Match object; span=(20, 21), match='1'>\n",
            "<re.Match object; span=(21, 22), match='2'>\n",
            "<re.Match object; span=(22, 23), match='3'>\n"
          ]
        }
      ]
    },
    {
      "cell_type": "markdown",
      "source": [
        "Alphabets"
      ],
      "metadata": {
        "id": "3htbkYL3D5oU"
      }
    },
    {
      "cell_type": "code",
      "source": [
        "print(test_string, end=\"\\n\\n\")\n",
        "pattern  = re.compile(r\"[a-zA-Z0-9]\")\n",
        "match = re.finditer(pattern, test_string)\n",
        "for match in match:\n",
        "\tprint(match)"
      ],
      "metadata": {
        "colab": {
          "base_uri": "https://localhost:8080/"
        },
        "id": "CcmKahbG9Avw",
        "outputId": "e81f0b49-fcbb-4ea0-a630-d14a6c80a06e"
      },
      "execution_count": 118,
      "outputs": [
        {
          "output_type": "stream",
          "name": "stdout",
          "text": [
            "123abc.4567XYZ$89abc123  def%GHIxyz.ABC#i.\n",
            "\n",
            "<re.Match object; span=(0, 1), match='1'>\n",
            "<re.Match object; span=(1, 2), match='2'>\n",
            "<re.Match object; span=(2, 3), match='3'>\n",
            "<re.Match object; span=(3, 4), match='a'>\n",
            "<re.Match object; span=(4, 5), match='b'>\n",
            "<re.Match object; span=(5, 6), match='c'>\n",
            "<re.Match object; span=(7, 8), match='4'>\n",
            "<re.Match object; span=(8, 9), match='5'>\n",
            "<re.Match object; span=(9, 10), match='6'>\n",
            "<re.Match object; span=(10, 11), match='7'>\n",
            "<re.Match object; span=(11, 12), match='X'>\n",
            "<re.Match object; span=(12, 13), match='Y'>\n",
            "<re.Match object; span=(13, 14), match='Z'>\n",
            "<re.Match object; span=(15, 16), match='8'>\n",
            "<re.Match object; span=(16, 17), match='9'>\n",
            "<re.Match object; span=(17, 18), match='a'>\n",
            "<re.Match object; span=(18, 19), match='b'>\n",
            "<re.Match object; span=(19, 20), match='c'>\n",
            "<re.Match object; span=(20, 21), match='1'>\n",
            "<re.Match object; span=(21, 22), match='2'>\n",
            "<re.Match object; span=(22, 23), match='3'>\n",
            "<re.Match object; span=(25, 26), match='d'>\n",
            "<re.Match object; span=(26, 27), match='e'>\n",
            "<re.Match object; span=(27, 28), match='f'>\n",
            "<re.Match object; span=(29, 30), match='G'>\n",
            "<re.Match object; span=(30, 31), match='H'>\n",
            "<re.Match object; span=(31, 32), match='I'>\n",
            "<re.Match object; span=(32, 33), match='x'>\n",
            "<re.Match object; span=(33, 34), match='y'>\n",
            "<re.Match object; span=(34, 35), match='z'>\n",
            "<re.Match object; span=(36, 37), match='A'>\n",
            "<re.Match object; span=(37, 38), match='B'>\n",
            "<re.Match object; span=(38, 39), match='C'>\n",
            "<re.Match object; span=(40, 41), match='i'>\n"
          ]
        }
      ]
    },
    {
      "cell_type": "code",
      "source": [
        "print(test_string, end=\"\\n\\n\")\n",
        "pattern  = re.compile(r\"[0-9a-fA-F]\")\n",
        "match = re.finditer(pattern, test_string)\n",
        "for match in match:\n",
        "\tprint(match)"
      ],
      "metadata": {
        "colab": {
          "base_uri": "https://localhost:8080/"
        },
        "id": "W2u5aByu9JqX",
        "outputId": "9e288981-c529-4088-bdde-eb186c744233"
      },
      "execution_count": 117,
      "outputs": [
        {
          "output_type": "stream",
          "name": "stdout",
          "text": [
            "123abc.4567XYZ$89abc123  def%GHIxyz.ABC#i.\n",
            "\n",
            "<re.Match object; span=(0, 1), match='1'>\n",
            "<re.Match object; span=(1, 2), match='2'>\n",
            "<re.Match object; span=(2, 3), match='3'>\n",
            "<re.Match object; span=(3, 4), match='a'>\n",
            "<re.Match object; span=(4, 5), match='b'>\n",
            "<re.Match object; span=(5, 6), match='c'>\n",
            "<re.Match object; span=(7, 8), match='4'>\n",
            "<re.Match object; span=(8, 9), match='5'>\n",
            "<re.Match object; span=(9, 10), match='6'>\n",
            "<re.Match object; span=(10, 11), match='7'>\n",
            "<re.Match object; span=(15, 16), match='8'>\n",
            "<re.Match object; span=(16, 17), match='9'>\n",
            "<re.Match object; span=(17, 18), match='a'>\n",
            "<re.Match object; span=(18, 19), match='b'>\n",
            "<re.Match object; span=(19, 20), match='c'>\n",
            "<re.Match object; span=(20, 21), match='1'>\n",
            "<re.Match object; span=(21, 22), match='2'>\n",
            "<re.Match object; span=(22, 23), match='3'>\n",
            "<re.Match object; span=(25, 26), match='d'>\n",
            "<re.Match object; span=(26, 27), match='e'>\n",
            "<re.Match object; span=(27, 28), match='f'>\n",
            "<re.Match object; span=(36, 37), match='A'>\n",
            "<re.Match object; span=(37, 38), match='B'>\n",
            "<re.Match object; span=(38, 39), match='C'>\n"
          ]
        }
      ]
    },
    {
      "cell_type": "markdown",
      "source": [
        "**Character Negation**"
      ],
      "metadata": {
        "id": "sp3Kg1fW9WyK"
      }
    },
    {
      "cell_type": "markdown",
      "source": [
        "Consonents"
      ],
      "metadata": {
        "id": "0wi7CrNaEDBU"
      }
    },
    {
      "cell_type": "code",
      "source": [
        "print(test_string, end=\"\\n\\n\")\n",
        "pattern  = re.compile(r\"[^aeiouAEIOU0-9%$#. ]\")\n",
        "match = re.finditer(pattern, test_string)\n",
        "for match in match:\n",
        "\tprint(match)"
      ],
      "metadata": {
        "colab": {
          "base_uri": "https://localhost:8080/"
        },
        "id": "KOMfKZXG9SjJ",
        "outputId": "307f5e15-4ea4-41de-9a6d-3f106bd71d1b"
      },
      "execution_count": 116,
      "outputs": [
        {
          "output_type": "stream",
          "name": "stdout",
          "text": [
            "123abc.4567XYZ$89abc123  def%GHIxyz.ABC#i.\n",
            "\n",
            "<re.Match object; span=(4, 5), match='b'>\n",
            "<re.Match object; span=(5, 6), match='c'>\n",
            "<re.Match object; span=(11, 12), match='X'>\n",
            "<re.Match object; span=(12, 13), match='Y'>\n",
            "<re.Match object; span=(13, 14), match='Z'>\n",
            "<re.Match object; span=(18, 19), match='b'>\n",
            "<re.Match object; span=(19, 20), match='c'>\n",
            "<re.Match object; span=(25, 26), match='d'>\n",
            "<re.Match object; span=(27, 28), match='f'>\n",
            "<re.Match object; span=(29, 30), match='G'>\n",
            "<re.Match object; span=(30, 31), match='H'>\n",
            "<re.Match object; span=(32, 33), match='x'>\n",
            "<re.Match object; span=(33, 34), match='y'>\n",
            "<re.Match object; span=(34, 35), match='z'>\n",
            "<re.Match object; span=(37, 38), match='B'>\n",
            "<re.Match object; span=(38, 39), match='C'>\n"
          ]
        }
      ]
    },
    {
      "cell_type": "markdown",
      "source": [
        "Not Even Numbers"
      ],
      "metadata": {
        "id": "5l3UgbaDEM7s"
      }
    },
    {
      "cell_type": "code",
      "source": [
        "print(test_string, end=\"\\n\\n\")\n",
        "pattern  = re.compile(r\"[^02468a-zA-Z%$#. ]\")\n",
        "match = re.finditer(pattern, test_string)\n",
        "for match in match:\n",
        "\tprint(match)"
      ],
      "metadata": {
        "colab": {
          "base_uri": "https://localhost:8080/"
        },
        "id": "eLbKzjNe9hBi",
        "outputId": "3f9bf007-aad9-4341-b709-006af9f2a375"
      },
      "execution_count": 115,
      "outputs": [
        {
          "output_type": "stream",
          "name": "stdout",
          "text": [
            "123abc.4567XYZ$89abc123  def%GHIxyz.ABC#i.\n",
            "\n",
            "<re.Match object; span=(0, 1), match='1'>\n",
            "<re.Match object; span=(2, 3), match='3'>\n",
            "<re.Match object; span=(8, 9), match='5'>\n",
            "<re.Match object; span=(10, 11), match='7'>\n",
            "<re.Match object; span=(16, 17), match='9'>\n",
            "<re.Match object; span=(20, 21), match='1'>\n",
            "<re.Match object; span=(22, 23), match='3'>\n"
          ]
        }
      ]
    },
    {
      "cell_type": "markdown",
      "source": [
        "Special Characters"
      ],
      "metadata": {
        "id": "2wNzq-WtETLt"
      }
    },
    {
      "cell_type": "code",
      "source": [
        "print(test_string, end=\"\\n\\n\")\n",
        "pattern  = re.compile(r\"[^a-zA-Z0-9. ]\")\n",
        "match = re.finditer(pattern, test_string)\n",
        "for match in match:\n",
        "\tprint(match)"
      ],
      "metadata": {
        "colab": {
          "base_uri": "https://localhost:8080/"
        },
        "id": "lgLe_pCF9n9T",
        "outputId": "6090f5c0-3fb9-4bda-b62b-a03cf79674bb"
      },
      "execution_count": 114,
      "outputs": [
        {
          "output_type": "stream",
          "name": "stdout",
          "text": [
            "123abc.4567XYZ$89abc123  def%GHIxyz.ABC#i.\n",
            "\n",
            "<re.Match object; span=(14, 15), match='$'>\n",
            "<re.Match object; span=(28, 29), match='%'>\n",
            "<re.Match object; span=(39, 40), match='#'>\n"
          ]
        }
      ]
    },
    {
      "cell_type": "markdown",
      "source": [
        "**Pre-defined Character Sets**"
      ],
      "metadata": {
        "id": "d-k6rVtB90eG"
      }
    },
    {
      "cell_type": "code",
      "source": [
        "test_string_1 = \"123abc.4567XYZ$89abc123 def%GHIxyz .ABC#i.\"\n",
        "\n",
        "test_string_2 = \"123abc.4567\\nXYZ$89abc123 def%GHI\\nxyz .ABC#i.\"\n",
        "\n",
        "test_string_3 = 'heyhello 123_ heyho hohey'"
      ],
      "metadata": {
        "id": "oFGwPPUZ9vUE"
      },
      "execution_count": 71,
      "outputs": []
    },
    {
      "cell_type": "markdown",
      "source": [
        "Digits"
      ],
      "metadata": {
        "id": "83ekMT-NEcUT"
      }
    },
    {
      "cell_type": "code",
      "source": [
        "print(test_string_1, end=\"\\n\\n\")\n",
        "pattern  = re.compile(r\"[\\d]\")\n",
        "match = re.finditer(pattern, test_string_1)\n",
        "for match in match:\n",
        "\tprint(match)"
      ],
      "metadata": {
        "colab": {
          "base_uri": "https://localhost:8080/"
        },
        "id": "kRYqDTsU98qm",
        "outputId": "1a135e90-02e3-4e3c-c29f-e7ba44df9ac0"
      },
      "execution_count": 113,
      "outputs": [
        {
          "output_type": "stream",
          "name": "stdout",
          "text": [
            "no no noo nooo noooothing noo\n",
            "\n"
          ]
        }
      ]
    },
    {
      "cell_type": "markdown",
      "source": [
        "Not Digits"
      ],
      "metadata": {
        "id": "7WQ0nFAFEpr0"
      }
    },
    {
      "cell_type": "code",
      "source": [
        "print(test_string_1, end=\"\\n\\n\")\n",
        "pattern  = re.compile(r\"[\\D]\")\n",
        "match = re.finditer(pattern, test_string_1)\n",
        "for match in match:\n",
        "\tprint(match)"
      ],
      "metadata": {
        "colab": {
          "base_uri": "https://localhost:8080/"
        },
        "id": "x0MbPZ4r-Dr-",
        "outputId": "833fb5c3-1971-40ab-ded1-690ba9018bd5"
      },
      "execution_count": 112,
      "outputs": [
        {
          "output_type": "stream",
          "name": "stdout",
          "text": [
            "no no noo nooo noooothing noo\n",
            "\n",
            "<re.Match object; span=(0, 1), match='n'>\n",
            "<re.Match object; span=(1, 2), match='o'>\n",
            "<re.Match object; span=(2, 3), match=' '>\n",
            "<re.Match object; span=(3, 4), match='n'>\n",
            "<re.Match object; span=(4, 5), match='o'>\n",
            "<re.Match object; span=(5, 6), match=' '>\n",
            "<re.Match object; span=(6, 7), match='n'>\n",
            "<re.Match object; span=(7, 8), match='o'>\n",
            "<re.Match object; span=(8, 9), match='o'>\n",
            "<re.Match object; span=(9, 10), match=' '>\n",
            "<re.Match object; span=(10, 11), match='n'>\n",
            "<re.Match object; span=(11, 12), match='o'>\n",
            "<re.Match object; span=(12, 13), match='o'>\n",
            "<re.Match object; span=(13, 14), match='o'>\n",
            "<re.Match object; span=(14, 15), match=' '>\n",
            "<re.Match object; span=(15, 16), match='n'>\n",
            "<re.Match object; span=(16, 17), match='o'>\n",
            "<re.Match object; span=(17, 18), match='o'>\n",
            "<re.Match object; span=(18, 19), match='o'>\n",
            "<re.Match object; span=(19, 20), match='o'>\n",
            "<re.Match object; span=(20, 21), match='t'>\n",
            "<re.Match object; span=(21, 22), match='h'>\n",
            "<re.Match object; span=(22, 23), match='i'>\n",
            "<re.Match object; span=(23, 24), match='n'>\n",
            "<re.Match object; span=(24, 25), match='g'>\n",
            "<re.Match object; span=(25, 26), match=' '>\n",
            "<re.Match object; span=(26, 27), match='n'>\n",
            "<re.Match object; span=(27, 28), match='o'>\n",
            "<re.Match object; span=(28, 29), match='o'>\n"
          ]
        }
      ]
    },
    {
      "cell_type": "markdown",
      "source": [
        "Whitespaces"
      ],
      "metadata": {
        "id": "Zo5bGTzYEvxa"
      }
    },
    {
      "cell_type": "code",
      "source": [
        "print(test_string_2, end=\"\\n\\n\")\n",
        "pattern  = re.compile(r\"[\\s]\")\n",
        "match = re.finditer(pattern, test_string_2)\n",
        "for match in match:\n",
        "\tprint(match)"
      ],
      "metadata": {
        "colab": {
          "base_uri": "https://localhost:8080/"
        },
        "id": "Ht6WZZJ8-LEH",
        "outputId": "49d4ce01-779a-4a1c-affb-32d150dc4023"
      },
      "execution_count": 111,
      "outputs": [
        {
          "output_type": "stream",
          "name": "stdout",
          "text": [
            "The colour of the sky and the color of the ocean are differenet.\n",
            "\n",
            "<re.Match object; span=(3, 4), match=' '>\n",
            "<re.Match object; span=(10, 11), match=' '>\n",
            "<re.Match object; span=(13, 14), match=' '>\n",
            "<re.Match object; span=(17, 18), match=' '>\n",
            "<re.Match object; span=(21, 22), match=' '>\n",
            "<re.Match object; span=(25, 26), match=' '>\n",
            "<re.Match object; span=(29, 30), match=' '>\n",
            "<re.Match object; span=(35, 36), match=' '>\n",
            "<re.Match object; span=(38, 39), match=' '>\n",
            "<re.Match object; span=(42, 43), match=' '>\n",
            "<re.Match object; span=(48, 49), match=' '>\n",
            "<re.Match object; span=(52, 53), match=' '>\n"
          ]
        }
      ]
    },
    {
      "cell_type": "markdown",
      "source": [
        "Not Whitespaces"
      ],
      "metadata": {
        "id": "wy_z5CQYE1L1"
      }
    },
    {
      "cell_type": "code",
      "source": [
        "print(test_string_2, end=\"\\n\\n\")\n",
        "pattern  = re.compile(r\"[\\S]\")\n",
        "match = re.finditer(pattern, test_string_2)\n",
        "for match in match:\n",
        "\tprint(match)"
      ],
      "metadata": {
        "colab": {
          "base_uri": "https://localhost:8080/"
        },
        "id": "6Ee1keVy-TVw",
        "outputId": "a8cc5e3c-6b2c-4094-f680-d1688d37daf5"
      },
      "execution_count": 110,
      "outputs": [
        {
          "output_type": "stream",
          "name": "stdout",
          "text": [
            "The colour of the sky and the color of the ocean are differenet.\n",
            "\n",
            "<re.Match object; span=(0, 1), match='T'>\n",
            "<re.Match object; span=(1, 2), match='h'>\n",
            "<re.Match object; span=(2, 3), match='e'>\n",
            "<re.Match object; span=(4, 5), match='c'>\n",
            "<re.Match object; span=(5, 6), match='o'>\n",
            "<re.Match object; span=(6, 7), match='l'>\n",
            "<re.Match object; span=(7, 8), match='o'>\n",
            "<re.Match object; span=(8, 9), match='u'>\n",
            "<re.Match object; span=(9, 10), match='r'>\n",
            "<re.Match object; span=(11, 12), match='o'>\n",
            "<re.Match object; span=(12, 13), match='f'>\n",
            "<re.Match object; span=(14, 15), match='t'>\n",
            "<re.Match object; span=(15, 16), match='h'>\n",
            "<re.Match object; span=(16, 17), match='e'>\n",
            "<re.Match object; span=(18, 19), match='s'>\n",
            "<re.Match object; span=(19, 20), match='k'>\n",
            "<re.Match object; span=(20, 21), match='y'>\n",
            "<re.Match object; span=(22, 23), match='a'>\n",
            "<re.Match object; span=(23, 24), match='n'>\n",
            "<re.Match object; span=(24, 25), match='d'>\n",
            "<re.Match object; span=(26, 27), match='t'>\n",
            "<re.Match object; span=(27, 28), match='h'>\n",
            "<re.Match object; span=(28, 29), match='e'>\n",
            "<re.Match object; span=(30, 31), match='c'>\n",
            "<re.Match object; span=(31, 32), match='o'>\n",
            "<re.Match object; span=(32, 33), match='l'>\n",
            "<re.Match object; span=(33, 34), match='o'>\n",
            "<re.Match object; span=(34, 35), match='r'>\n",
            "<re.Match object; span=(36, 37), match='o'>\n",
            "<re.Match object; span=(37, 38), match='f'>\n",
            "<re.Match object; span=(39, 40), match='t'>\n",
            "<re.Match object; span=(40, 41), match='h'>\n",
            "<re.Match object; span=(41, 42), match='e'>\n",
            "<re.Match object; span=(43, 44), match='o'>\n",
            "<re.Match object; span=(44, 45), match='c'>\n",
            "<re.Match object; span=(45, 46), match='e'>\n",
            "<re.Match object; span=(46, 47), match='a'>\n",
            "<re.Match object; span=(47, 48), match='n'>\n",
            "<re.Match object; span=(49, 50), match='a'>\n",
            "<re.Match object; span=(50, 51), match='r'>\n",
            "<re.Match object; span=(51, 52), match='e'>\n",
            "<re.Match object; span=(53, 54), match='d'>\n",
            "<re.Match object; span=(54, 55), match='i'>\n",
            "<re.Match object; span=(55, 56), match='f'>\n",
            "<re.Match object; span=(56, 57), match='f'>\n",
            "<re.Match object; span=(57, 58), match='e'>\n",
            "<re.Match object; span=(58, 59), match='r'>\n",
            "<re.Match object; span=(59, 60), match='e'>\n",
            "<re.Match object; span=(60, 61), match='n'>\n",
            "<re.Match object; span=(61, 62), match='e'>\n",
            "<re.Match object; span=(62, 63), match='t'>\n",
            "<re.Match object; span=(63, 64), match='.'>\n"
          ]
        }
      ]
    },
    {
      "cell_type": "markdown",
      "source": [
        "Alphanumeric"
      ],
      "metadata": {
        "id": "iF0sL_sHE8aM"
      }
    },
    {
      "cell_type": "code",
      "source": [
        "print(test_string_2, end=\"\\n\\n\")\n",
        "pattern  = re.compile(r\"[\\w]\")\n",
        "match = re.finditer(pattern, test_string_2)\n",
        "for match in match:\n",
        "\tprint(match)"
      ],
      "metadata": {
        "colab": {
          "base_uri": "https://localhost:8080/"
        },
        "id": "WBEMlA3k-bjI",
        "outputId": "effbc935-72f0-489c-8f26-9aa81c639bcf"
      },
      "execution_count": 109,
      "outputs": [
        {
          "output_type": "stream",
          "name": "stdout",
          "text": [
            "The colour of the sky and the color of the ocean are differenet.\n",
            "\n",
            "<re.Match object; span=(0, 1), match='T'>\n",
            "<re.Match object; span=(1, 2), match='h'>\n",
            "<re.Match object; span=(2, 3), match='e'>\n",
            "<re.Match object; span=(4, 5), match='c'>\n",
            "<re.Match object; span=(5, 6), match='o'>\n",
            "<re.Match object; span=(6, 7), match='l'>\n",
            "<re.Match object; span=(7, 8), match='o'>\n",
            "<re.Match object; span=(8, 9), match='u'>\n",
            "<re.Match object; span=(9, 10), match='r'>\n",
            "<re.Match object; span=(11, 12), match='o'>\n",
            "<re.Match object; span=(12, 13), match='f'>\n",
            "<re.Match object; span=(14, 15), match='t'>\n",
            "<re.Match object; span=(15, 16), match='h'>\n",
            "<re.Match object; span=(16, 17), match='e'>\n",
            "<re.Match object; span=(18, 19), match='s'>\n",
            "<re.Match object; span=(19, 20), match='k'>\n",
            "<re.Match object; span=(20, 21), match='y'>\n",
            "<re.Match object; span=(22, 23), match='a'>\n",
            "<re.Match object; span=(23, 24), match='n'>\n",
            "<re.Match object; span=(24, 25), match='d'>\n",
            "<re.Match object; span=(26, 27), match='t'>\n",
            "<re.Match object; span=(27, 28), match='h'>\n",
            "<re.Match object; span=(28, 29), match='e'>\n",
            "<re.Match object; span=(30, 31), match='c'>\n",
            "<re.Match object; span=(31, 32), match='o'>\n",
            "<re.Match object; span=(32, 33), match='l'>\n",
            "<re.Match object; span=(33, 34), match='o'>\n",
            "<re.Match object; span=(34, 35), match='r'>\n",
            "<re.Match object; span=(36, 37), match='o'>\n",
            "<re.Match object; span=(37, 38), match='f'>\n",
            "<re.Match object; span=(39, 40), match='t'>\n",
            "<re.Match object; span=(40, 41), match='h'>\n",
            "<re.Match object; span=(41, 42), match='e'>\n",
            "<re.Match object; span=(43, 44), match='o'>\n",
            "<re.Match object; span=(44, 45), match='c'>\n",
            "<re.Match object; span=(45, 46), match='e'>\n",
            "<re.Match object; span=(46, 47), match='a'>\n",
            "<re.Match object; span=(47, 48), match='n'>\n",
            "<re.Match object; span=(49, 50), match='a'>\n",
            "<re.Match object; span=(50, 51), match='r'>\n",
            "<re.Match object; span=(51, 52), match='e'>\n",
            "<re.Match object; span=(53, 54), match='d'>\n",
            "<re.Match object; span=(54, 55), match='i'>\n",
            "<re.Match object; span=(55, 56), match='f'>\n",
            "<re.Match object; span=(56, 57), match='f'>\n",
            "<re.Match object; span=(57, 58), match='e'>\n",
            "<re.Match object; span=(58, 59), match='r'>\n",
            "<re.Match object; span=(59, 60), match='e'>\n",
            "<re.Match object; span=(60, 61), match='n'>\n",
            "<re.Match object; span=(61, 62), match='e'>\n",
            "<re.Match object; span=(62, 63), match='t'>\n"
          ]
        }
      ]
    },
    {
      "cell_type": "markdown",
      "source": [
        "Not Alphanumeric"
      ],
      "metadata": {
        "id": "oN-BgusJFFCq"
      }
    },
    {
      "cell_type": "code",
      "source": [
        "print(test_string_2, end=\"\\n\\n\")\n",
        "pattern  = re.compile(r\"[\\W]\")\n",
        "match = re.finditer(pattern, test_string_2)\n",
        "for match in match:\n",
        "\tprint(match)"
      ],
      "metadata": {
        "colab": {
          "base_uri": "https://localhost:8080/"
        },
        "id": "dFoXThZk-kxI",
        "outputId": "c9ab4796-520f-407d-845b-238829f30a0f"
      },
      "execution_count": 108,
      "outputs": [
        {
          "output_type": "stream",
          "name": "stdout",
          "text": [
            "The colour of the sky and the color of the ocean are differenet.\n",
            "\n",
            "<re.Match object; span=(3, 4), match=' '>\n",
            "<re.Match object; span=(10, 11), match=' '>\n",
            "<re.Match object; span=(13, 14), match=' '>\n",
            "<re.Match object; span=(17, 18), match=' '>\n",
            "<re.Match object; span=(21, 22), match=' '>\n",
            "<re.Match object; span=(25, 26), match=' '>\n",
            "<re.Match object; span=(29, 30), match=' '>\n",
            "<re.Match object; span=(35, 36), match=' '>\n",
            "<re.Match object; span=(38, 39), match=' '>\n",
            "<re.Match object; span=(42, 43), match=' '>\n",
            "<re.Match object; span=(48, 49), match=' '>\n",
            "<re.Match object; span=(52, 53), match=' '>\n",
            "<re.Match object; span=(63, 64), match='.'>\n"
          ]
        }
      ]
    },
    {
      "cell_type": "markdown",
      "source": [
        "Word Boundary"
      ],
      "metadata": {
        "id": "4rdHJ_V3FQfe"
      }
    },
    {
      "cell_type": "code",
      "source": [
        "test_string_3"
      ],
      "metadata": {
        "colab": {
          "base_uri": "https://localhost:8080/",
          "height": 35
        },
        "id": "g_u2l2JS-s6D",
        "outputId": "e01da6b0-5469-4ea7-cd46-b214a986a93f"
      },
      "execution_count": 78,
      "outputs": [
        {
          "output_type": "execute_result",
          "data": {
            "text/plain": [
              "'heyhello 123_ heyho hohey'"
            ],
            "application/vnd.google.colaboratory.intrinsic+json": {
              "type": "string"
            }
          },
          "metadata": {},
          "execution_count": 78
        }
      ]
    },
    {
      "cell_type": "code",
      "source": [
        "pattern = re.compile(r\"hey\")\n",
        "match = re.finditer(pattern, test_string_3)\n",
        "for match in match:\n",
        "\tprint(match)"
      ],
      "metadata": {
        "id": "-bKG18cG-xd0"
      },
      "execution_count": 107,
      "outputs": []
    },
    {
      "cell_type": "code",
      "source": [
        "pattern = re.compile(r\"\\bhey\\b\")\n",
        "match = re.finditer(pattern, test_string_3)\n",
        "for match in match:\n",
        "\tprint(match)"
      ],
      "metadata": {
        "id": "zxt87v0B-1fy"
      },
      "execution_count": 106,
      "outputs": []
    },
    {
      "cell_type": "markdown",
      "source": [
        "**Quantifiers**"
      ],
      "metadata": {
        "id": "D42D7NBm--8N"
      }
    },
    {
      "cell_type": "code",
      "source": [
        "test_string_1 = \"no no noo nooo noooothing noo\"\n",
        "test_string_2 = \"The colour of the sky and the color of the ocean are differenet.\"\n",
        "test_string_3 = \"We can use either http or https to generate URLs.\"\n",
        "test_string_4 = \"aaXaaaXaaaaXaaaaaX\"\n",
        "test_string_5 = \"<div>First div</div><div>Second div</div>\""
      ],
      "metadata": {
        "id": "TkD4dW1d_hHV"
      },
      "execution_count": 82,
      "outputs": []
    },
    {
      "cell_type": "markdown",
      "source": [
        "**Greedy**"
      ],
      "metadata": {
        "id": "6iauL9X9_y9s"
      }
    },
    {
      "cell_type": "code",
      "source": [
        "test_string_1"
      ],
      "metadata": {
        "colab": {
          "base_uri": "https://localhost:8080/",
          "height": 35
        },
        "id": "sxu46U5L_xQ6",
        "outputId": "8a35d300-af12-4394-dc06-0e24307610aa"
      },
      "execution_count": 83,
      "outputs": [
        {
          "output_type": "execute_result",
          "data": {
            "text/plain": [
              "'no no noo nooo noooothing noo'"
            ],
            "application/vnd.google.colaboratory.intrinsic+json": {
              "type": "string"
            }
          },
          "metadata": {},
          "execution_count": 83
        }
      ]
    },
    {
      "cell_type": "code",
      "source": [
        "pattern = re.compile(r\"noo*\")\n",
        "match = re.finditer(pattern, test_string_1)\n",
        "for match in match:\n",
        "\tprint(match)"
      ],
      "metadata": {
        "colab": {
          "base_uri": "https://localhost:8080/"
        },
        "id": "H_zvA24f_3Q7",
        "outputId": "d5d540a9-951d-46fb-e5f0-8d092af1cda1"
      },
      "execution_count": 105,
      "outputs": [
        {
          "output_type": "stream",
          "name": "stdout",
          "text": [
            "<re.Match object; span=(0, 2), match='no'>\n",
            "<re.Match object; span=(3, 5), match='no'>\n",
            "<re.Match object; span=(6, 9), match='noo'>\n",
            "<re.Match object; span=(10, 14), match='nooo'>\n",
            "<re.Match object; span=(15, 20), match='noooo'>\n",
            "<re.Match object; span=(26, 29), match='noo'>\n"
          ]
        }
      ]
    },
    {
      "cell_type": "code",
      "source": [
        "pattern = re.compile(r\"noo+\")\n",
        "match = re.finditer(pattern, test_string_1)\n",
        "for match in match:\n",
        "\tprint(match)"
      ],
      "metadata": {
        "colab": {
          "base_uri": "https://localhost:8080/"
        },
        "id": "G6H4JYj__8aU",
        "outputId": "05d2ff17-5199-4506-df83-f321197a528d"
      },
      "execution_count": 104,
      "outputs": [
        {
          "output_type": "stream",
          "name": "stdout",
          "text": [
            "<re.Match object; span=(6, 9), match='noo'>\n",
            "<re.Match object; span=(10, 14), match='nooo'>\n",
            "<re.Match object; span=(15, 20), match='noooo'>\n",
            "<re.Match object; span=(26, 29), match='noo'>\n"
          ]
        }
      ]
    },
    {
      "cell_type": "code",
      "source": [
        "print(test_string_2, end=\"\\n\\n\")\n",
        "pattern = re.compile(r\"colou?r\")\n",
        "match = re.finditer(pattern, test_string_2)\n",
        "for match in match:\n",
        "\tprint(match)"
      ],
      "metadata": {
        "colab": {
          "base_uri": "https://localhost:8080/"
        },
        "id": "kMeUeb-hAEeV",
        "outputId": "28d37777-8f26-478a-df43-6e8d58ed88ee"
      },
      "execution_count": 103,
      "outputs": [
        {
          "output_type": "stream",
          "name": "stdout",
          "text": [
            "The colour of the sky and the color of the ocean are differenet.\n",
            "\n",
            "<re.Match object; span=(4, 10), match='colour'>\n",
            "<re.Match object; span=(30, 35), match='color'>\n"
          ]
        }
      ]
    },
    {
      "cell_type": "code",
      "source": [
        "print(test_string_3, end=\"\\n\\n\")\n",
        "pattern = re.compile(r\"https?\")\n",
        "match = re.finditer(pattern, test_string_3)\n",
        "for match in match:\n",
        "\tprint(match)"
      ],
      "metadata": {
        "colab": {
          "base_uri": "https://localhost:8080/"
        },
        "id": "e-YMSpKlAK7u",
        "outputId": "a8941b08-ec66-4c17-b574-c7255fb37f07"
      },
      "execution_count": 102,
      "outputs": [
        {
          "output_type": "stream",
          "name": "stdout",
          "text": [
            "We can use either http or https to generate URLs.\n",
            "\n",
            "<re.Match object; span=(18, 22), match='http'>\n",
            "<re.Match object; span=(26, 31), match='https'>\n"
          ]
        }
      ]
    },
    {
      "cell_type": "code",
      "source": [
        "test_string_4 = 'aaXaaaXaaaaXaaaaaaX'\n",
        "print(test_string_4, end=\"\\n\\n\")\n",
        "pattern = re.compile(r\"a{3}\")\n",
        "match = re.finditer(pattern, test_string_4)\n",
        "for match in match:\n",
        "\tprint(match)"
      ],
      "metadata": {
        "colab": {
          "base_uri": "https://localhost:8080/"
        },
        "id": "jXSQZcc5APum",
        "outputId": "599655e0-85b1-4b04-89b3-e6b6be991f8e"
      },
      "execution_count": 101,
      "outputs": [
        {
          "output_type": "stream",
          "name": "stdout",
          "text": [
            "aaXaaaXaaaaXaaaaaaX\n",
            "\n",
            "<re.Match object; span=(3, 6), match='aaa'>\n",
            "<re.Match object; span=(7, 10), match='aaa'>\n",
            "<re.Match object; span=(12, 15), match='aaa'>\n",
            "<re.Match object; span=(15, 18), match='aaa'>\n"
          ]
        }
      ]
    },
    {
      "cell_type": "code",
      "source": [
        "print(test_string_4, end=\"\\n\\n\")\n",
        "pattern = re.compile(r\"a{2,5}\")\n",
        "match = re.finditer(pattern, test_string_4)\n",
        "for match in match:\n",
        "\tprint(match)"
      ],
      "metadata": {
        "colab": {
          "base_uri": "https://localhost:8080/"
        },
        "id": "3muttlpEAWru",
        "outputId": "9253997a-2f10-4f13-b5e0-508ab5ef180a"
      },
      "execution_count": 100,
      "outputs": [
        {
          "output_type": "stream",
          "name": "stdout",
          "text": [
            "aaXaaaXaaaaXaaaaaaX\n",
            "\n",
            "<re.Match object; span=(0, 2), match='aa'>\n",
            "<re.Match object; span=(3, 6), match='aaa'>\n",
            "<re.Match object; span=(7, 11), match='aaaa'>\n",
            "<re.Match object; span=(12, 17), match='aaaaa'>\n"
          ]
        }
      ]
    },
    {
      "cell_type": "markdown",
      "source": [
        "**Lazy**"
      ],
      "metadata": {
        "id": "RVM9XkgtAhHa"
      }
    },
    {
      "cell_type": "code",
      "source": [
        "print(test_string_1, end=\"\\n\\n\")\n",
        "pattern = re.compile(r\"noo*?\")\n",
        "\"\"\"\n",
        "it will search for no first and return them only if found other it will search for noo  and\n",
        "terminate if found otherwise nooo\n",
        "\"\"\"\n",
        "match = re.finditer(pattern, test_string_1)\n",
        "for match in match:\n",
        "\tprint(match)"
      ],
      "metadata": {
        "colab": {
          "base_uri": "https://localhost:8080/"
        },
        "id": "nBkJRjuMAeH4",
        "outputId": "8592690e-0006-463f-c79e-9db581cf0e4e"
      },
      "execution_count": 99,
      "outputs": [
        {
          "output_type": "stream",
          "name": "stdout",
          "text": [
            "no no noo nooo noooothing noo\n",
            "\n",
            "<re.Match object; span=(0, 2), match='no'>\n",
            "<re.Match object; span=(3, 5), match='no'>\n",
            "<re.Match object; span=(6, 8), match='no'>\n",
            "<re.Match object; span=(10, 12), match='no'>\n",
            "<re.Match object; span=(15, 17), match='no'>\n",
            "<re.Match object; span=(26, 28), match='no'>\n"
          ]
        }
      ]
    },
    {
      "cell_type": "code",
      "source": [
        "print(test_string_1, end=\"\\n\\n\")\n",
        "pattern = re.compile(r\"noo+?\")\n",
        "match = re.finditer(pattern, test_string_1)\n",
        "for match in match:\n",
        "\tprint(match)"
      ],
      "metadata": {
        "colab": {
          "base_uri": "https://localhost:8080/"
        },
        "id": "UPt8hyWSApOB",
        "outputId": "d640a548-b435-48ef-a536-46d69feffaab"
      },
      "execution_count": 98,
      "outputs": [
        {
          "output_type": "stream",
          "name": "stdout",
          "text": [
            "no no noo nooo noooothing noo\n",
            "\n",
            "<re.Match object; span=(6, 9), match='noo'>\n",
            "<re.Match object; span=(10, 13), match='noo'>\n",
            "<re.Match object; span=(15, 18), match='noo'>\n",
            "<re.Match object; span=(26, 29), match='noo'>\n"
          ]
        }
      ]
    },
    {
      "cell_type": "code",
      "source": [
        "print(test_string_4, end=\"\\n\\n\")\n",
        "pattern = re.compile(r\"a{2,5}?\")\n",
        "match = re.finditer(pattern, test_string_4)\n",
        "for match in match:\n",
        "\tprint(match)"
      ],
      "metadata": {
        "colab": {
          "base_uri": "https://localhost:8080/"
        },
        "id": "K2i0dCPFAyuL",
        "outputId": "9c0b305b-fecd-412d-95bb-d7b25d8df0f1"
      },
      "execution_count": 97,
      "outputs": [
        {
          "output_type": "stream",
          "name": "stdout",
          "text": [
            "aaXaaaXaaaaXaaaaaaX\n",
            "\n",
            "<re.Match object; span=(0, 2), match='aa'>\n",
            "<re.Match object; span=(3, 5), match='aa'>\n",
            "<re.Match object; span=(7, 9), match='aa'>\n",
            "<re.Match object; span=(9, 11), match='aa'>\n",
            "<re.Match object; span=(12, 14), match='aa'>\n",
            "<re.Match object; span=(14, 16), match='aa'>\n",
            "<re.Match object; span=(16, 18), match='aa'>\n"
          ]
        }
      ]
    },
    {
      "cell_type": "code",
      "source": [
        "print(test_string_5, end=\"\\n\\n\")\n",
        "pattern = re.compile(r\"<\\w+>.*</\\w+>\")\n",
        "match = re.findall(pattern, test_string_5)\n",
        "match"
      ],
      "metadata": {
        "colab": {
          "base_uri": "https://localhost:8080/"
        },
        "id": "_FJxW--AA6TL",
        "outputId": "60484cff-def2-44c4-d84a-18895779a42b"
      },
      "execution_count": 96,
      "outputs": [
        {
          "output_type": "stream",
          "name": "stdout",
          "text": [
            "<div>First div</div><div>Second div</div>\n",
            "\n"
          ]
        },
        {
          "output_type": "execute_result",
          "data": {
            "text/plain": [
              "['<div>First div</div><div>Second div</div>']"
            ]
          },
          "metadata": {},
          "execution_count": 96
        }
      ]
    },
    {
      "cell_type": "code",
      "source": [
        "print(test_string_5, end=\"\\n\\n\")\n",
        "pattern = re.compile(r\"<\\w+>.*?</\\w+>\")\n",
        "match = re.findall(pattern, test_string_5)\n",
        "match"
      ],
      "metadata": {
        "colab": {
          "base_uri": "https://localhost:8080/"
        },
        "id": "orHX5mHCBA4c",
        "outputId": "88556eac-9a99-4b2f-8560-ab86000351cb"
      },
      "execution_count": 95,
      "outputs": [
        {
          "output_type": "stream",
          "name": "stdout",
          "text": [
            "<div>First div</div><div>Second div</div>\n",
            "\n"
          ]
        },
        {
          "output_type": "execute_result",
          "data": {
            "text/plain": [
              "['<div>First div</div>', '<div>Second div</div>']"
            ]
          },
          "metadata": {},
          "execution_count": 95
        }
      ]
    },
    {
      "cell_type": "code",
      "source": [],
      "metadata": {
        "id": "8o-_zB7eBGH9"
      },
      "execution_count": null,
      "outputs": []
    }
  ]
}